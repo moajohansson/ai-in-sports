{
 "cells": [
  {
   "cell_type": "code",
   "execution_count": 22,
   "metadata": {},
   "outputs": [],
   "source": [
    "import numpy as np\n",
    "import matplotlib.pyplot as plt\n",
    "import pandas as pd\n",
    "import seaborn as sns\n",
    "import os\n",
    "import math\n",
    "import keras\n",
    "from random import shuffle\n",
    "from keras.models import Sequential\n",
    "from keras.layers import Dense\n",
    "from keras.layers import LSTM\n",
    "from keras.preprocessing import sequence\n",
    "from sklearn.model_selection import train_test_split\n",
    "from sklearn.metrics import accuracy_score, confusion_matrix"
   ]
  },
  {
   "cell_type": "code",
   "execution_count": 23,
   "metadata": {},
   "outputs": [],
   "source": [
    "# Import data cell\n",
    "#  - Creates two dataframes, one for test data and one for training data. \n",
    "#  - Add labels two both datasets \n",
    "#  - Time countinuos\n",
    "\n",
    "gear3PathHenrik = os.path.normpath('gear3.csv')\n",
    "gear4_double_PathHenrik = os.path.normpath('double_gear4.csv')\n",
    "classDictHenrik = {'gear3':1,'double_gear4':2}\n",
    "classDict = {'Gear2':0,'Gear3':1,'Gear4':2,'Double':3,0:'Gear2',1:'Gear3',2:'Gear4',3:'Double'}\n",
    "pathList = [gear3PathHenrik,gear4_double_PathHenrik]\n",
    "dataList_Henrik = []\n",
    "dataListRolling_Henrik = []\n",
    "\n",
    "for p in pathList:\n",
    "    pPath = os.path.normpath('/Users/mariekorneliusson/documents/AiSports/skate_beginner') + '/' + p\n",
    "\n",
    "    d = pd.read_csv(pPath,low_memory = False)\n",
    "    d.dropna(axis=0)\n",
    "    if p == gear4_double_PathHenrik:\n",
    "        start_stop = [48.3,224.3,224.3,533.0]\n",
    "        for i in range(2):\n",
    "            d_g = d.loc[(d.t >= start_stop[2*i]) & (d.t < start_stop[2*i + 1])]\n",
    "            d_g.reset_index(inplace = True, drop = True)\n",
    "            if i == 0:\n",
    "                c = 3\n",
    "            else:\n",
    "                c = 2\n",
    "            label_d = pd.DataFrame({'label': c*np.ones(len(d_g),)})\n",
    "            rolling_d= d_g.rolling(window=3,min_periods=1)\n",
    "            rolling_pd_d = rolling_d.mean()\n",
    "            rolling_pd_d  = rolling_pd_d.join(label_d)\n",
    "            dataListRolling_Henrik.append(rolling_pd_d)\n",
    "    \n",
    "    elif p == gear3PathHenrik:\n",
    "        start_stop = [26.7,64.9,137.5,173.5,239.6,273.9]\n",
    "        for i in range(3):\n",
    "            d_gear3 = d.loc[(d.t >= start_stop[2*i]) & (d.t < start_stop[2*i + 1])]\n",
    "            d_gear3.reset_index(inplace = True, drop = True)\n",
    "            label = pd.DataFrame({'label': 1*np.ones(len(d_gear3),)})\n",
    "            rolling= d_gear3.rolling(window=3,min_periods=1)\n",
    "            rolling_pd = rolling.mean()\n",
    "            rolling_pd  = rolling_pd.join(label)\n",
    "            dataListRolling_Henrik.append(rolling_pd)"
   ]
  },
  {
   "cell_type": "code",
   "execution_count": 24,
   "metadata": {},
   "outputs": [],
   "source": [
    "def smallerSegments(dataList,nbr_of_point):\n",
    "    \n",
    "    newDataList = []\n",
    "    nbr_of_segemnts = len(dataList)\n",
    "    \n",
    "    for i in range(nbr_of_segemnts):\n",
    "        segment = dataList[i]\n",
    "        new_partition =  math.ceil(len(segment)/nbr_of_point)\n",
    "        for j in range(new_partition-1):\n",
    "            newDataList.append(segment.loc[j*nbr_of_point:j*nbr_of_point+nbr_of_point,:])\n",
    "            \n",
    "        newDataList.append(segment.loc[(new_partition-1)*nbr_of_point:,:])\n",
    "\n",
    "    return newDataList"
   ]
  },
  {
   "cell_type": "code",
   "execution_count": 25,
   "metadata": {},
   "outputs": [],
   "source": [
    "dataListRollingSmaller = smallerSegments(dataListRolling_Henrik,750)\n",
    "shuffle(dataListRollingSmaller)\n",
    "\n",
    "X = pd.concat(dataListRollingSmaller)\n",
    "\n",
    "data = pd.DataFrame(X)\n",
    "delta_t = 0.02\n",
    "data.reset_index(inplace = True, drop = True)\n",
    "for i in range(len(data)):\n",
    "    data.loc[i,'t'] = i*delta_t"
   ]
  },
  {
   "cell_type": "code",
   "execution_count": 26,
   "metadata": {},
   "outputs": [
    {
     "data": {
      "text/html": [
       "<div>\n",
       "<style scoped>\n",
       "    .dataframe tbody tr th:only-of-type {\n",
       "        vertical-align: middle;\n",
       "    }\n",
       "\n",
       "    .dataframe tbody tr th {\n",
       "        vertical-align: top;\n",
       "    }\n",
       "\n",
       "    .dataframe thead th {\n",
       "        text-align: right;\n",
       "    }\n",
       "</style>\n",
       "<table border=\"1\" class=\"dataframe\">\n",
       "  <thead>\n",
       "    <tr style=\"text-align: right;\">\n",
       "      <th></th>\n",
       "      <th>t</th>\n",
       "      <th>fL</th>\n",
       "      <th>thL</th>\n",
       "      <th>w1L</th>\n",
       "      <th>w2L</th>\n",
       "      <th>w3L</th>\n",
       "      <th>a1L</th>\n",
       "      <th>a2L</th>\n",
       "      <th>a3L</th>\n",
       "      <th>fR</th>\n",
       "      <th>thR</th>\n",
       "      <th>w1R</th>\n",
       "      <th>w2R</th>\n",
       "      <th>w3R</th>\n",
       "      <th>a1R</th>\n",
       "      <th>a2R</th>\n",
       "      <th>a3R</th>\n",
       "      <th>label</th>\n",
       "    </tr>\n",
       "  </thead>\n",
       "  <tbody>\n",
       "    <tr>\n",
       "      <th>0</th>\n",
       "      <td>0.00</td>\n",
       "      <td>-0.433333</td>\n",
       "      <td>76.966667</td>\n",
       "      <td>1.711000</td>\n",
       "      <td>-0.105333</td>\n",
       "      <td>-0.678333</td>\n",
       "      <td>0.163333</td>\n",
       "      <td>2.420000</td>\n",
       "      <td>2.730000</td>\n",
       "      <td>-0.200000</td>\n",
       "      <td>87.033333</td>\n",
       "      <td>1.474000</td>\n",
       "      <td>0.127667</td>\n",
       "      <td>0.186667</td>\n",
       "      <td>-0.463333</td>\n",
       "      <td>1.970000</td>\n",
       "      <td>4.526667</td>\n",
       "      <td>3.0</td>\n",
       "    </tr>\n",
       "    <tr>\n",
       "      <th>1</th>\n",
       "      <td>0.02</td>\n",
       "      <td>-0.433333</td>\n",
       "      <td>77.500000</td>\n",
       "      <td>1.056333</td>\n",
       "      <td>0.075333</td>\n",
       "      <td>-0.495333</td>\n",
       "      <td>-0.090000</td>\n",
       "      <td>2.060000</td>\n",
       "      <td>2.850000</td>\n",
       "      <td>-0.200000</td>\n",
       "      <td>87.400000</td>\n",
       "      <td>0.776667</td>\n",
       "      <td>0.235000</td>\n",
       "      <td>0.021333</td>\n",
       "      <td>-0.066667</td>\n",
       "      <td>0.473333</td>\n",
       "      <td>2.616667</td>\n",
       "      <td>3.0</td>\n",
       "    </tr>\n",
       "    <tr>\n",
       "      <th>2</th>\n",
       "      <td>0.04</td>\n",
       "      <td>-0.433333</td>\n",
       "      <td>77.633333</td>\n",
       "      <td>0.399000</td>\n",
       "      <td>0.249000</td>\n",
       "      <td>-0.308333</td>\n",
       "      <td>-0.616667</td>\n",
       "      <td>1.896667</td>\n",
       "      <td>2.520000</td>\n",
       "      <td>-0.233333</td>\n",
       "      <td>87.200000</td>\n",
       "      <td>0.103333</td>\n",
       "      <td>0.227000</td>\n",
       "      <td>-0.154333</td>\n",
       "      <td>0.176667</td>\n",
       "      <td>-0.780000</td>\n",
       "      <td>0.923333</td>\n",
       "      <td>3.0</td>\n",
       "    </tr>\n",
       "    <tr>\n",
       "      <th>3</th>\n",
       "      <td>0.06</td>\n",
       "      <td>-0.433333</td>\n",
       "      <td>77.533333</td>\n",
       "      <td>-0.230333</td>\n",
       "      <td>0.343667</td>\n",
       "      <td>-0.136333</td>\n",
       "      <td>-1.220000</td>\n",
       "      <td>2.220000</td>\n",
       "      <td>1.720000</td>\n",
       "      <td>-0.233333</td>\n",
       "      <td>86.566667</td>\n",
       "      <td>-0.524667</td>\n",
       "      <td>0.121000</td>\n",
       "      <td>-0.325333</td>\n",
       "      <td>0.463333</td>\n",
       "      <td>-1.360000</td>\n",
       "      <td>-0.403333</td>\n",
       "      <td>3.0</td>\n",
       "    </tr>\n",
       "    <tr>\n",
       "      <th>4</th>\n",
       "      <td>0.08</td>\n",
       "      <td>-0.400000</td>\n",
       "      <td>77.133333</td>\n",
       "      <td>-0.805000</td>\n",
       "      <td>0.390000</td>\n",
       "      <td>0.011000</td>\n",
       "      <td>-1.746667</td>\n",
       "      <td>2.986667</td>\n",
       "      <td>0.453333</td>\n",
       "      <td>-0.233333</td>\n",
       "      <td>85.400000</td>\n",
       "      <td>-1.096000</td>\n",
       "      <td>-0.016333</td>\n",
       "      <td>-0.463667</td>\n",
       "      <td>0.800000</td>\n",
       "      <td>-1.180000</td>\n",
       "      <td>-1.383333</td>\n",
       "      <td>3.0</td>\n",
       "    </tr>\n",
       "  </tbody>\n",
       "</table>\n",
       "</div>"
      ],
      "text/plain": [
       "      t        fL        thL       w1L       w2L       w3L       a1L  \\\n",
       "0  0.00 -0.433333  76.966667  1.711000 -0.105333 -0.678333  0.163333   \n",
       "1  0.02 -0.433333  77.500000  1.056333  0.075333 -0.495333 -0.090000   \n",
       "2  0.04 -0.433333  77.633333  0.399000  0.249000 -0.308333 -0.616667   \n",
       "3  0.06 -0.433333  77.533333 -0.230333  0.343667 -0.136333 -1.220000   \n",
       "4  0.08 -0.400000  77.133333 -0.805000  0.390000  0.011000 -1.746667   \n",
       "\n",
       "        a2L       a3L        fR        thR       w1R       w2R       w3R  \\\n",
       "0  2.420000  2.730000 -0.200000  87.033333  1.474000  0.127667  0.186667   \n",
       "1  2.060000  2.850000 -0.200000  87.400000  0.776667  0.235000  0.021333   \n",
       "2  1.896667  2.520000 -0.233333  87.200000  0.103333  0.227000 -0.154333   \n",
       "3  2.220000  1.720000 -0.233333  86.566667 -0.524667  0.121000 -0.325333   \n",
       "4  2.986667  0.453333 -0.233333  85.400000 -1.096000 -0.016333 -0.463667   \n",
       "\n",
       "        a1R       a2R       a3R  label  \n",
       "0 -0.463333  1.970000  4.526667    3.0  \n",
       "1 -0.066667  0.473333  2.616667    3.0  \n",
       "2  0.176667 -0.780000  0.923333    3.0  \n",
       "3  0.463333 -1.360000 -0.403333    3.0  \n",
       "4  0.800000 -1.180000 -1.383333    3.0  "
      ]
     },
     "execution_count": 26,
     "metadata": {},
     "output_type": "execute_result"
    }
   ],
   "source": [
    "data.head()"
   ]
  },
  {
   "cell_type": "code",
   "execution_count": 27,
   "metadata": {},
   "outputs": [],
   "source": [
    "def strikesData(data,epsilon,delta_t):\n",
    "    # Data - dataframe\n",
    "    # to find the strikes\n",
    "    time_column = 0\n",
    "    nbrSamples = data.shape[0]\n",
    "    feautres = data.shape[1]\n",
    "    strike_list = []\n",
    "    #ind = data.loc[(data['fL'] >= epsilon) & (data['fR'] >= epsilon)].values\n",
    "    ind = data.loc[(data['fL'] >= epsilon)].values\n",
    "    data_array = data.values\n",
    "    first_index = 0\n",
    "    for i in range(ind.shape[0]-1):\n",
    "        if ind[i+1,time_column] - ind[i,time_column] > 2*delta_t:\n",
    "            last_time = ind[i,time_column]\n",
    "            last_index = np.where(data_array[:,time_column]==last_time)[0][0]\n",
    "            strike = data_array[first_index:last_index,:]\n",
    "            strike_list.append(strike)\n",
    "            first_index = last_index + 1\n",
    "    \n",
    "    return strike_list"
   ]
  },
  {
   "cell_type": "code",
   "execution_count": 28,
   "metadata": {},
   "outputs": [],
   "source": [
    "def reshape_and_pad(strike_list,nbr_of_classes,pad):\n",
    "    nbr_of_strikes = len(strike_list)\n",
    "    dimX = strike_list[0].shape[1]\n",
    "    nbr_of_strikes_n = 0\n",
    "    max_length = 140\n",
    "    for strikes in strike_list:\n",
    "        if  (strikes.shape[0] <= max_length) & (strikes.shape[0] > 1):\n",
    "            nbr_of_strikes_n = nbr_of_strikes_n + 1\n",
    "    \n",
    "    time_step = max_length      \n",
    "    strike_data = np.zeros((nbr_of_strikes_n+1,time_step,dimX))-pad\n",
    "    labels = np.zeros((nbr_of_strikes_n+1,nbr_of_classes))\n",
    "\n",
    "    t = 0\n",
    "    s = 0\n",
    "    for i in range(nbr_of_strikes):\n",
    "        strike = strike_list[i] \n",
    "        if (strike.shape[0] < max_length) & (strike.shape[0] > 1):\n",
    "            s = s + 1\n",
    "            for j in range(strike.shape[0]):\n",
    "                strike_data[s,j,1:] = strike[j,1:]\n",
    "                strike_data[s,j,0] = t*0.02\n",
    "                t = t+1\n",
    "            labels[s,int(strike[0,dimX-1])] = 1\n",
    "\n",
    "    return strike_data,labels,time_step"
   ]
  },
  {
   "cell_type": "code",
   "execution_count": 29,
   "metadata": {},
   "outputs": [],
   "source": [
    "nbr_of_classes = 4\n",
    "pad = 0\n",
    "delta_t = 0.02\n",
    "strike_list = strikesData(data,0.4,delta_t) \n",
    "X,Y,time_step = reshape_and_pad(strike_list,nbr_of_classes,pad)"
   ]
  },
  {
   "cell_type": "code",
   "execution_count": 30,
   "metadata": {},
   "outputs": [
    {
     "name": "stdout",
     "output_type": "stream",
     "text": [
      "(382, 140, 18)\n",
      "(382, 4)\n",
      "(26, 18)\n"
     ]
    }
   ],
   "source": [
    "print(X.shape)\n",
    "print(Y.shape)\n",
    "print(strike_list[0].shape)"
   ]
  },
  {
   "cell_type": "code",
   "execution_count": 33,
   "metadata": {
    "scrolled": true
   },
   "outputs": [
    {
     "name": "stdout",
     "output_type": "stream",
     "text": [
      "(0,)\n",
      "(87,)\n",
      "(164,)\n",
      "(130,)\n"
     ]
    },
    {
     "data": {
      "image/png": "[encoded data removed]",
      "text/plain": [
       "<Figure size 1080x432 with 1 Axes>"
      ]
     },
     "metadata": {
      "needs_background": "light"
     },
     "output_type": "display_data"
    },
    {
     "data": {
      "image/png": "[encoded data removed]",
      "text/plain": [
       "<Figure size 1080x432 with 1 Axes>"
      ]
     },
     "metadata": {
      "needs_background": "light"
     },
     "output_type": "display_data"
    },
    {
     "data": {
      "image/png": "[encoded data removed]",
      "text/plain": [
       "<Figure size 1080x432 with 1 Axes>"
      ]
     },
     "metadata": {
      "needs_background": "light"
     },
     "output_type": "display_data"
    }
   ],
   "source": [
    "gear_ind_list = []\n",
    "for c in range(4):\n",
    "    g = np.where(Y[:,c] == 1)[0].ravel()\n",
    "    gear_ind_list.append(g)\n",
    "    print(np.where(Y[:,c] == 1)[0].ravel().shape)\n",
    "    if g.shape[0] > 10:\n",
    "        plt.figure(c,figsize=(15,6))\n",
    "        for i in range(10):\n",
    "            strike_t = strike_list[g[i]][:,0]\n",
    "            strike_f = strike_list[g[i]][:,9]\n",
    "            plt.scatter(strike_t,strike_f)\n",
    "        "
   ]
  },
  {
   "cell_type": "code",
   "execution_count": 34,
   "metadata": {},
   "outputs": [],
   "source": [
    "np.save('X_Second_Skier',X)\n",
    "np.save('Y_Second_Skier', Y)"
   ]
  },
  {
   "cell_type": "code",
   "execution_count": 13,
   "metadata": {},
   "outputs": [],
   "source": [
    "X_new = np.load('X_Second_Skier.npy')"
   ]
  },
  {
   "cell_type": "code",
   "execution_count": 14,
   "metadata": {},
   "outputs": [
    {
     "name": "stdout",
     "output_type": "stream",
     "text": [
      "(381, 140, 18)\n"
     ]
    }
   ],
   "source": [
    "print(X_new.shape)"
   ]
  },
  {
   "cell_type": "code",
   "execution_count": 35,
   "metadata": {},
   "outputs": [],
   "source": [
    "key_list = data.keys().tolist()"
   ]
  },
  {
   "cell_type": "code",
   "execution_count": 36,
   "metadata": {},
   "outputs": [
    {
     "name": "stdout",
     "output_type": "stream",
     "text": [
      "['t', 'fL', 'thL', 'w1L', 'w2L', 'w3L', 'a1L', 'a2L', 'a3L', 'fR', 'thR', 'w1R', 'w2R', 'w3R', 'a1R', 'a2R', 'a3R', 'label']\n"
     ]
    }
   ],
   "source": [
    "print(key_list)"
   ]
  },
  {
   "cell_type": "code",
   "execution_count": 20,
   "metadata": {},
   "outputs": [],
   "source": [
    "path = os.path.normpath('/Users/mariekorneliusson/documents/AiSports/Strike_Data_As_Np')\n",
    "score = []\n",
    "with open(\"keys_Second_Skier.txt\", \"w\") as f:\n",
    "    for s in key_list:\n",
    "        f.write(str(s) +\"\\n\")\n",
    "\n",
    "with open(\"keys_Second_Skier.txt\", \"r\") as f:\n",
    "      for line in f:\n",
    "        score.append(line.strip('\\n'))"
   ]
  },
  {
   "cell_type": "code",
   "execution_count": 21,
   "metadata": {},
   "outputs": [
    {
     "name": "stdout",
     "output_type": "stream",
     "text": [
      "['t', 'fL', 'thL', 'w1L', 'w2L', 'w3L', 'a1L', 'a2L', 'a3L', 'fR', 'thR', 'w1R', 'w2R', 'w3R', 'a1R', 'a2R', 'a3R', 'label']\n"
     ]
    }
   ],
   "source": [
    "print(score)"
   ]
  },
  {
   "cell_type": "code",
   "execution_count": null,
   "metadata": {},
   "outputs": [],
   "source": []
  }
 ],
 "metadata": {
  "kernelspec": {
   "display_name": "Python 3",
   "language": "python",
   "name": "python3"
  },
  "language_info": {
   "codemirror_mode": {
    "name": "ipython",
    "version": 3
   },
   "file_extension": ".py",
   "mimetype": "text/x-python",
   "name": "python",
   "nbconvert_exporter": "python",
   "pygments_lexer": "ipython3",
   "version": "3.6.6"
  }
 },
 "nbformat": 4,
 "nbformat_minor": 2
}
