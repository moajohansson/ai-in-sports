{
 "cells": [
  {
   "cell_type": "markdown",
   "metadata": {},
   "source": [
    "In this notebook diffrent parameters are tested, inorder to find a optimal choice of parameters for an LSTM network with respect to validation preformence. The traing data contains samples form skier 1, and 3, wheresd the validation is done on skier 2."
   ]
  },
  {
   "cell_type": "code",
   "execution_count": 1,
   "metadata": {},
   "outputs": [
    {
     "name": "stderr",
     "output_type": "stream",
     "text": [
      "Using TensorFlow backend.\n",
      "/Users/mariekorneliusson/anaconda3/envs/dml/lib/python3.6/importlib/_bootstrap.py:219: RuntimeWarning: compiletime version 3.5 of module 'tensorflow.python.framework.fast_tensor_util' does not match runtime version 3.6\n",
      "  return f(*args, **kwds)\n"
     ]
    }
   ],
   "source": [
    "import numpy as np\n",
    "import matplotlib.pyplot as plt\n",
    "import pandas as pd\n",
    "import seaborn as sns\n",
    "import os\n",
    "import math\n",
    "import keras\n",
    "from random import shuffle\n",
    "from keras.models import Sequential, Model\n",
    "from keras.layers import Dense,Bidirectional\n",
    "from keras.layers import LSTM, Flatten, Input\n",
    "from keras.layers import BatchNormalization\n",
    "from keras.layers import TimeDistributed, Conv1D, Conv2D, MaxPooling1D, GlobalMaxPooling1D,Dropout\n",
    "from keras.callbacks import TensorBoard, EarlyStopping, ModelCheckpoint\n",
    "from keras.preprocessing import sequence\n",
    "from sklearn.model_selection import train_test_split\n",
    "from sklearn.metrics import accuracy_score, confusion_matrix\n",
    "from keras.optimizers import Adam"
   ]
  },
  {
   "cell_type": "code",
   "execution_count": 2,
   "metadata": {},
   "outputs": [],
   "source": [
    "path = os.path.normpath('/Users/mariekorneliusson/documents/AiSports/Strike_Data_As_Np')"
   ]
  },
  {
   "cell_type": "code",
   "execution_count": 3,
   "metadata": {},
   "outputs": [],
   "source": [
    "X_First = np.load(path + '/' + 'X_First_Skier.npy')\n",
    "Y_First = np.load(path + '/' + 'Y_First_Skier.npy')\n",
    "feature_list_First = []\n",
    "with open(path + \"/keys_First_Skier.txt\", \"r\") as f:\n",
    "      for line in f:\n",
    "        feature_list_First.append(line.strip('\\n'))"
   ]
  },
  {
   "cell_type": "code",
   "execution_count": 4,
   "metadata": {},
   "outputs": [],
   "source": [
    "X_Second = np.load(path + '/' + 'X_Second_Skier.npy')\n",
    "Y_Second = np.load(path + '/' + 'Y_Second_Skier.npy')\n",
    "feature_list_Second = []\n",
    "with open(path + \"/keys_Second_Skier.txt\", \"r\") as f:\n",
    "      for line in f:\n",
    "        feature_list_Second.append(line.strip('\\n'))"
   ]
  },
  {
   "cell_type": "code",
   "execution_count": 5,
   "metadata": {},
   "outputs": [],
   "source": [
    "X_Third = np.load(path + '/' + 'X_Third_Skier.npy')\n",
    "Y_Third = np.load(path + '/' + 'Y_Third_Skier.npy')\n",
    "feature_list_Third = []\n",
    "with open(path + \"/keys_Third_Skier.txt\", \"r\") as f:\n",
    "      for line in f:\n",
    "        feature_list_Third.append(line.strip('\\n'))"
   ]
  },
  {
   "cell_type": "code",
   "execution_count": 6,
   "metadata": {},
   "outputs": [
    {
     "name": "stdout",
     "output_type": "stream",
     "text": [
      "17\n"
     ]
    }
   ],
   "source": [
    "feature_Dict = {i:feature_list_Second[i] for i in range(len(feature_list_Second)-1)}\n",
    "print(len(feature_Dict))"
   ]
  },
  {
   "cell_type": "code",
   "execution_count": 7,
   "metadata": {},
   "outputs": [
    {
     "name": "stdout",
     "output_type": "stream",
     "text": [
      "(452, 140, 22)\n",
      "(382, 140, 18)\n",
      "(844, 140, 22)\n",
      "(452, 4)\n",
      "(382, 4)\n",
      "(844, 4)\n"
     ]
    }
   ],
   "source": [
    "print(X_First.shape)\n",
    "print(X_Second.shape)\n",
    "print(X_Third.shape)\n",
    "print(Y_First.shape)\n",
    "print(Y_Second.shape)\n",
    "print(Y_Third.shape)"
   ]
  },
  {
   "cell_type": "code",
   "execution_count": 8,
   "metadata": {},
   "outputs": [],
   "source": [
    "dim_X = len(feature_Dict)\n",
    "time_step = 140\n",
    "nbr_of_classes = 4\n",
    "X = np.concatenate((X_First, X_Third), axis=0)[:,:,:dim_X]\n",
    "Y= np.concatenate((Y_First, Y_Third), axis=0)\n",
    "X=X[:700,:,:dim_X]\n",
    "Y=Y[:700,:]\n",
    "X_Val = X[700:,:,:dim_X]\n",
    "Y_Val = Y[700:,:]\n",
    "#X_Val = X_Second[:175,:,:dim_X]\n",
    "#Y_Val = Y_Second[:175,:]\n",
    "X_Test = X_Second\n",
    "Y_Test = Y_Second"
   ]
  },
  {
   "cell_type": "code",
   "execution_count": 10,
   "metadata": {},
   "outputs": [
    {
     "name": "stdout",
     "output_type": "stream",
     "text": [
      "(700, 140, 17)\n",
      "(700, 4)\n",
      "(0, 140, 17)\n",
      "(0, 4)\n",
      "(382, 140, 18)\n",
      "(382, 4)\n"
     ]
    }
   ],
   "source": [
    "print(X.shape)\n",
    "print(Y.shape)\n",
    "print(X_Val.shape)\n",
    "print(Y_Val.shape)\n",
    "print(X_Test.shape)\n",
    "print(Y_Test.shape)"
   ]
  },
  {
   "cell_type": "code",
   "execution_count": 11,
   "metadata": {},
   "outputs": [],
   "source": [
    "def get_strike(strike,strike_l,pad):\n",
    "    \n",
    "    for j in range(strike_l-3):\n",
    "        if strike[j,1] == strike[j+1,1] == strike[j+2,1] == pad:\n",
    "            plot_strike = strike[0:j-1,1]\n",
    "            time_strike = strike[0:j-1,0]\n",
    "            break\n",
    "        elif strike[strike_l-2,0] > 0:\n",
    "            plot_strike = strike[:,1]\n",
    "            time_strike = strike[:,0]\n",
    "            break\n",
    "    \n",
    "    return plot_strike,time_strike"
   ]
  },
  {
   "cell_type": "code",
   "execution_count": 12,
   "metadata": {},
   "outputs": [],
   "source": [
    "def change_time_axis_for_plot(X,delta_t):\n",
    "    \n",
    "    nbr_of_samples = X.shape[0]\n",
    "    t = 0\n",
    "    for i in range(nbr_of_samples):\n",
    "        for j in range(140):\n",
    "            X[i,j,0] = t*delta_t\n",
    "            t = t + 1\n",
    "    \n",
    "    return X"
   ]
  },
  {
   "cell_type": "code",
   "execution_count": 40,
   "metadata": {},
   "outputs": [],
   "source": [
    "def plot_skiedata(true_Y,X,figure):\n",
    "\n",
    "    nbr_of_classes = 4\n",
    "    colorDict = {0:'r',1:'fuchsia',2:'deeppink',3:'orange'}\n",
    "    nameDict = {0:'Gear 2',1:'Gear 3',2:'Gear 4',3:'Double','Gear 2':0,'Gear 3':1,'Gear 4':2,'Double':3}\n",
    "    nbr_of_test = X.shape[0]\n",
    "    strike_l = X.shape[1]\n",
    "    pad = 0\n",
    "\n",
    "    for c in range(nbr_of_classes):\n",
    "        true_c = np.where(true_Y == c)[0]\n",
    "        strike_true = []\n",
    "        strike_pred = []\n",
    "        time_true = []\n",
    "        time_pred = []\n",
    "        for i in range(true_c.shape[0]):\n",
    "            strike = X[true_c[i],:,:]\n",
    "            t_strike,t_time = get_strike(strike,strike_l,pad)\n",
    "            strike_true.extend(t_strike)\n",
    "            time_true.extend(t_time)\n",
    "\n",
    "        plt.figure(figure,figsize=(15, 4))\n",
    "        plt.title('True gear')\n",
    "        plt.scatter(time_true,strike_true,label = 'True class: ' + nameDict[c],color =  colorDict[c], alpha = 1)\n",
    "        plt.legend()\n",
    "        #plt.axis([280, 320, 0, 400])\n",
    "    figure = figure + 1\n",
    "    return figure"
   ]
  },
  {
   "cell_type": "code",
   "execution_count": 13,
   "metadata": {},
   "outputs": [],
   "source": [
    "delta_t = 0.02\n",
    "X = change_time_axis_for_plot(X,delta_t)\n",
    "X_Test = change_time_axis_for_plot(X_Test,delta_t)"
   ]
  },
  {
   "cell_type": "code",
   "execution_count": 26,
   "metadata": {},
   "outputs": [
    {
     "data": {
      "image/png": "[encoded data removed]",
      "text/plain": [
       "<Figure size 1080x288 with 1 Axes>"
      ]
     },
     "metadata": {
      "needs_background": "light"
     },
     "output_type": "display_data"
    }
   ],
   "source": [
    "true_Y = np.argmax(Y,axis = 1)\n",
    "figure = plot_skiedata(true_Y,X,0)"
   ]
  },
  {
   "cell_type": "code",
   "execution_count": 14,
   "metadata": {},
   "outputs": [],
   "source": [
    "def LSTM_Two_Dense_26():\n",
    "    \n",
    "    sequence_input = Input(shape=(time_step,dim_X-1))\n",
    "    print(sequence_input.shape)\n",
    "    x = LSTM(26,return_sequences=True)(sequence_input)\n",
    "    print(x.shape)\n",
    "    x = Dense(X.shape[1], activation='relu')(x)\n",
    "    print(x.shape)\n",
    "    x = Flatten()(x)\n",
    "    print(x.shape)\n",
    "    preds = Dense(nbr_of_classes, activation='softmax')(x)\n",
    "    model = Model(sequence_input, preds)\n",
    "    model.compile(Adam(lr=0.0001),loss='categorical_crossentropy', metrics=['accuracy'])\n",
    "    \n",
    "    return model\n",
    "\n",
    "def LSTM_Two_Dense_64():\n",
    "    \n",
    "    sequence_input = Input(shape=(time_step,dim_X-1))\n",
    "    x = LSTM(64,return_sequences=True)(sequence_input)\n",
    "    x = Dense(X.shape[1], activation='relu')(x)\n",
    "    x = Flatten()(x)\n",
    "    preds = Dense(nbr_of_classes, activation='softmax')(x)\n",
    "    model = Model(sequence_input, preds)\n",
    "    model.compile(Adam(lr=0.0001),loss='categorical_crossentropy', metrics=['accuracy'])\n",
    "    \n",
    "    return model\n",
    "\n",
    "def LSTM_Two_Dense_126():\n",
    "    \n",
    "    sequence_input = Input(shape=(time_step,dim_X-1))\n",
    "    x = LSTM(126,return_sequences=True)(sequence_input)\n",
    "    x = Dense(X.shape[1], activation='relu')(x)\n",
    "    x = Flatten()(x)\n",
    "    preds = Dense(nbr_of_classes, activation='softmax')(x)\n",
    "    model = Model(sequence_input, preds)\n",
    "    model.compile(Adam(lr=0.0001),loss='categorical_crossentropy', metrics=['accuracy'])\n",
    "    \n",
    "    return model\n",
    "\n",
    "def LSTM_Two_Dense_64_Drop():\n",
    "    \n",
    "    sequence_input = Input(shape=(time_step,dim_X-1))\n",
    "    x = LSTM(64,return_sequences=True, recurrent_dropout = 0.2)(sequence_input)\n",
    "    x = Dense(X.shape[1], activation='relu')(x)\n",
    "    x = Flatten()(x)\n",
    "    preds = Dense(nbr_of_classes, activation='softmax')(x)\n",
    "    model = Model(sequence_input, preds)\n",
    "    model.compile(Adam(lr=0.0001),loss='categorical_crossentropy', metrics=['accuracy'])\n",
    "    \n",
    "    return model\n",
    "\n",
    "def LSTM_Two_Dense_126_Drop():\n",
    "    \n",
    "    sequence_input = Input(shape=(time_step,dim_X-1))\n",
    "    x = LSTM(126,return_sequences=True, recurrent_dropout = 0.2)(sequence_input)\n",
    "    x = Dense(X.shape[1], activation='relu')(x)\n",
    "    x = Flatten()(x)\n",
    "    preds = Dense(nbr_of_classes, activation='softmax')(x)\n",
    "    model = Model(sequence_input, preds)\n",
    "    model.compile(Adam(lr=0.0001),loss='categorical_crossentropy', metrics=['accuracy'])\n",
    "    \n",
    "    return model\n",
    "def LSTM_Two_Dense_126_Drop_04():\n",
    "    \n",
    "    sequence_input = Input(shape=(time_step,dim_X-1))\n",
    "    x = LSTM(126,return_sequences=True, recurrent_dropout = 0.4)(sequence_input)\n",
    "    x = Dense(X.shape[1], activation='relu')(x)\n",
    "    x = Flatten()(x)\n",
    "    preds = Dense(nbr_of_classes, activation='softmax')(x)\n",
    "    model = Model(sequence_input, preds)\n",
    "    model.compile(Adam(lr=0.0001),loss='categorical_crossentropy', metrics=['accuracy'])\n",
    "    \n",
    "    return model\n"
   ]
  },
  {
   "cell_type": "code",
   "execution_count": 15,
   "metadata": {},
   "outputs": [
    {
     "name": "stdout",
     "output_type": "stream",
     "text": [
      "Train on 700 samples, validate on 0 samples\n",
      "Epoch 1/3\n",
      "700/700 [==============================] - 141s 201ms/step - loss: 0.5423 - acc: 0.7914\n",
      "Epoch 2/3\n",
      "700/700 [==============================] - 144s 205ms/step - loss: 0.1851 - acc: 0.9400\n",
      "Epoch 3/3\n",
      "700/700 [==============================] - 142s 203ms/step - loss: 0.0763 - acc: 0.9814\n"
     ]
    }
   ],
   "source": [
    "model = LSTM_Two_Dense_126()\n",
    "eS = EarlyStopping(monitor='acc', min_delta=0.00001, patience=5)\n",
    "history = model.fit(X[:,:,1:], Y, epochs=3, batch_size=1, validation_data=(X_Val[:,:,1:],Y_Val),shuffle = True,callbacks = [eS])"
   ]
  },
  {
   "cell_type": "code",
   "execution_count": 34,
   "metadata": {},
   "outputs": [
    {
     "name": "stdout",
     "output_type": "stream",
     "text": [
      "Train on 1296 samples, validate on 382 samples\n",
      "Epoch 1/3\n",
      "1296/1296 [==============================] - 305s 236ms/step - loss: 0.3895 - acc: 0.8457 - val_loss: 0.9857 - val_acc: 0.7304\n",
      "Epoch 2/3\n",
      "1296/1296 [==============================] - 304s 234ms/step - loss: 0.1306 - acc: 0.9560 - val_loss: 0.9759 - val_acc: 0.7539\n",
      "Epoch 3/3\n",
      "1296/1296 [==============================] - 302s 233ms/step - loss: 0.0747 - acc: 0.9745 - val_loss: 0.9942 - val_acc: 0.7199\n"
     ]
    }
   ],
   "source": [
    "model = LSTM_Two_Dense_126_Drop()\n",
    "eS = EarlyStopping(monitor='acc', min_delta=0.00001, patience=5)\n",
    "history = model.fit(X[:,:,1:], Y, epochs=3, batch_size=1, validation_data=(X_Val[:,:,1:],Y_Val),shuffle = True,callbacks = [eS])"
   ]
  },
  {
   "cell_type": "code",
   "execution_count": 35,
   "metadata": {},
   "outputs": [
    {
     "name": "stdout",
     "output_type": "stream",
     "text": [
      "Train on 1296 samples, validate on 382 samples\n",
      "Epoch 1/3\n",
      "1296/1296 [==============================] - 299s 230ms/step - loss: 0.4288 - acc: 0.8372 - val_loss: 0.8809 - val_acc: 0.6257\n",
      "Epoch 2/3\n",
      "1296/1296 [==============================] - 295s 228ms/step - loss: 0.1611 - acc: 0.9444 - val_loss: 1.0344 - val_acc: 0.6152\n",
      "Epoch 3/3\n",
      "1296/1296 [==============================] - 296s 229ms/step - loss: 0.0952 - acc: 0.9684 - val_loss: 1.0553 - val_acc: 0.6361\n"
     ]
    }
   ],
   "source": [
    "model = LSTM_Two_Dense_64_Drop()\n",
    "eS = EarlyStopping(monitor='acc', min_delta=0.00001, patience=5)\n",
    "history = model.fit(X[:,:,1:], Y, epochs=3, batch_size=1, validation_data=(X_Val[:,:,1:],Y_Val),shuffle = True,callbacks = [eS])"
   ]
  },
  {
   "cell_type": "code",
   "execution_count": 16,
   "metadata": {},
   "outputs": [
    {
     "name": "stdout",
     "output_type": "stream",
     "text": [
      "Train on 700 samples, validate on 0 samples\n",
      "Epoch 1/5\n",
      "700/700 [==============================] - 167s 239ms/step - loss: 0.5552 - acc: 0.7771\n",
      "Epoch 2/5\n"
     ]
    },
    {
     "name": "stderr",
     "output_type": "stream",
     "text": [
      "/Users/mariekorneliusson/anaconda3/envs/dml/lib/python3.6/site-packages/keras/callbacks.py:432: RuntimeWarning: Can save best model only with val_loss available, skipping.\n",
      "  'skipping.' % (self.monitor), RuntimeWarning)\n"
     ]
    },
    {
     "name": "stdout",
     "output_type": "stream",
     "text": [
      "700/700 [==============================] - 166s 236ms/step - loss: 0.1851 - acc: 0.9486\n",
      "Epoch 3/5\n",
      "700/700 [==============================] - 161s 230ms/step - loss: 0.0935 - acc: 0.9757\n",
      "Epoch 4/5\n",
      "700/700 [==============================] - 160s 229ms/step - loss: 0.0485 - acc: 0.9914\n",
      "Epoch 5/5\n",
      "700/700 [==============================] - 158s 226ms/step - loss: 0.0247 - acc: 0.9971\n"
     ]
    }
   ],
   "source": [
    "model = LSTM_Two_Dense_126_Drop()\n",
    "mCp = ModelCheckpoint('LSTM_1_3_Uppdate.h5', monitor='val_loss', save_best_only=True)\n",
    "history = model.fit(X[:,:,1:], Y, epochs=5, batch_size=1, validation_data=(X_Val[:,:,1:],Y_Val),shuffle = True,callbacks = [mCp])"
   ]
  },
  {
   "cell_type": "code",
   "execution_count": 35,
   "metadata": {},
   "outputs": [],
   "source": [
    "from keras.models import load_model\n",
    "model.save('LSTM_1_3_Uppdate.h5')"
   ]
  },
  {
   "cell_type": "code",
   "execution_count": 31,
   "metadata": {},
   "outputs": [
    {
     "name": "stdout",
     "output_type": "stream",
     "text": [
      "Train on 700 samples, validate on 0 samples\n",
      "Epoch 1/5\n",
      "700/700 [==============================] - 160s 229ms/step - loss: 0.0095 - acc: 0.9986\n",
      "Epoch 2/5\n"
     ]
    },
    {
     "name": "stderr",
     "output_type": "stream",
     "text": [
      "/Users/mariekorneliusson/anaconda3/envs/dml/lib/python3.6/site-packages/keras/callbacks.py:432: RuntimeWarning: Can save best model only with val_loss available, skipping.\n",
      "  'skipping.' % (self.monitor), RuntimeWarning)\n"
     ]
    },
    {
     "name": "stdout",
     "output_type": "stream",
     "text": [
      "700/700 [==============================] - 159s 227ms/step - loss: 0.0033 - acc: 0.9986\n",
      "Epoch 3/5\n",
      "700/700 [==============================] - 161s 230ms/step - loss: 0.0019 - acc: 0.9986\n",
      "Epoch 4/5\n",
      "700/700 [==============================] - 159s 227ms/step - loss: 0.0012 - acc: 0.9986\n",
      "Epoch 5/5\n",
      "700/700 [==============================] - 162s 231ms/step - loss: 0.0011 - acc: 0.9986\n"
     ]
    }
   ],
   "source": [
    "LSTM_Two_Dense_126_Drop_04()\n",
    "mCp = ModelCheckpoint('LSTM_1_3_New.h5', monitor='val_loss', save_best_only=True)\n",
    "history  = model.fit(X[:,:,1:], Y, epochs=5, batch_size=1, validation_data=(X_Val[:,:,1:],Y_Val),shuffle = True,callbacks = [mCp])"
   ]
  },
  {
   "cell_type": "code",
   "execution_count": 36,
   "metadata": {},
   "outputs": [],
   "source": [
    "from keras.models import load_model\n",
    "model.save('LSTM_1_3_New.h5')"
   ]
  },
  {
   "cell_type": "code",
   "execution_count": 37,
   "metadata": {},
   "outputs": [
    {
     "name": "stdout",
     "output_type": "stream",
     "text": [
      "(382, 4)\n",
      "Accuracy: 0.81\n"
     ]
    }
   ],
   "source": [
    "from keras.models import load_model\n",
    "model = load_model('LSTM_1_3_New.h5')\n",
    "predY = model.predict(X_Test[:,:,1:dim_X])\n",
    "print(predY.shape)\n",
    "pred_Y = np.argmax(predY,axis = 1)\n",
    "true_Y = np.argmax(Y_Test,axis = 1)\n",
    "acc = accuracy_score(true_Y,pred_Y)\n",
    "print(\"Accuracy: %.2f\" % acc)"
   ]
  },
  {
   "cell_type": "code",
   "execution_count": null,
   "metadata": {},
   "outputs": [],
   "source": []
  }
 ],
 "metadata": {
  "kernelspec": {
   "display_name": "Python 3",
   "language": "python",
   "name": "python3"
  },
  "language_info": {
   "codemirror_mode": {
    "name": "ipython",
    "version": 3
   },
   "file_extension": ".py",
   "mimetype": "text/x-python",
   "name": "python",
   "nbconvert_exporter": "python",
   "pygments_lexer": "ipython3",
   "version": "3.6.6"
  }
 },
 "nbformat": 4,
 "nbformat_minor": 2
}
