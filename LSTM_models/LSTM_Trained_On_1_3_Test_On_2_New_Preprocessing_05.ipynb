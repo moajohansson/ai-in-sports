{
 "cells": [
  {
   "cell_type": "markdown",
   "metadata": {},
   "source": [
    "In this notebook diffrent parameters are tested, inorder to find a optimal choice of parameters for an LSTM network with respect to validation preformence. The traing data contains samples form skier 1, and 3, wheresd the validation is done on skier 2."
   ]
  },
  {
   "cell_type": "code",
   "execution_count": 1,
   "metadata": {},
   "outputs": [
    {
     "name": "stderr",
     "output_type": "stream",
     "text": [
      "Using TensorFlow backend.\n",
      "/Users/mariekorneliusson/anaconda3/envs/dml/lib/python3.6/importlib/_bootstrap.py:219: RuntimeWarning: compiletime version 3.5 of module 'tensorflow.python.framework.fast_tensor_util' does not match runtime version 3.6\n",
      "  return f(*args, **kwds)\n"
     ]
    }
   ],
   "source": [
    "import numpy as np\n",
    "import matplotlib.pyplot as plt\n",
    "import pandas as pd\n",
    "import seaborn as sns\n",
    "import os\n",
    "import math\n",
    "import keras\n",
    "from random import shuffle\n",
    "from keras.models import Sequential, Model\n",
    "from keras.layers import Dense,Bidirectional\n",
    "from keras.layers import LSTM, Flatten, Input\n",
    "from keras.layers import BatchNormalization\n",
    "from keras.layers import TimeDistributed, Conv1D, Conv2D, MaxPooling1D, GlobalMaxPooling1D,Dropout\n",
    "from keras.callbacks import TensorBoard, EarlyStopping, ModelCheckpoint\n",
    "from keras.preprocessing import sequence\n",
    "from sklearn.model_selection import train_test_split\n",
    "from sklearn.metrics import accuracy_score, confusion_matrix\n",
    "from keras.optimizers import Adam"
   ]
  },
  {
   "cell_type": "code",
   "execution_count": 4,
   "metadata": {},
   "outputs": [],
   "source": [
    "path = os.path.normpath('/Users/mariekorneliusson/documents/AiSports/Strike_Data_As_Np')"
   ]
  },
  {
   "cell_type": "code",
   "execution_count": 5,
   "metadata": {},
   "outputs": [],
   "source": [
    "X_First = np.load(path + '/' + 'X_First_Skier.npy')\n",
    "Y_First = np.load(path + '/' + 'Y_First_Skier.npy')\n",
    "feature_list_First = []\n",
    "with open(path + \"/keys_First_Skier.txt\", \"r\") as f:\n",
    "      for line in f:\n",
    "        feature_list_First.append(line.strip('\\n'))"
   ]
  },
  {
   "cell_type": "code",
   "execution_count": 6,
   "metadata": {},
   "outputs": [],
   "source": [
    "X_Second = np.load(path + '/' + 'X_Second_Skier.npy')\n",
    "Y_Second = np.load(path + '/' + 'Y_Second_Skier.npy')\n",
    "feature_list_Second = []\n",
    "with open(path + \"/keys_Second_Skier.txt\", \"r\") as f:\n",
    "      for line in f:\n",
    "        feature_list_Second.append(line.strip('\\n'))"
   ]
  },
  {
   "cell_type": "code",
   "execution_count": 7,
   "metadata": {},
   "outputs": [],
   "source": [
    "X_Third = np.load(path + '/' + 'X_Third_Skier.npy')\n",
    "Y_Third = np.load(path + '/' + 'Y_Third_Skier.npy')\n",
    "feature_list_Third = []\n",
    "with open(path + \"/keys_Third_Skier.txt\", \"r\") as f:\n",
    "      for line in f:\n",
    "        feature_list_Third.append(line.strip('\\n'))"
   ]
  },
  {
   "cell_type": "code",
   "execution_count": 8,
   "metadata": {},
   "outputs": [
    {
     "name": "stdout",
     "output_type": "stream",
     "text": [
      "17\n"
     ]
    }
   ],
   "source": [
    "feature_Dict = {i:feature_list_Second[i] for i in range(len(feature_list_Second)-1)}\n",
    "print(len(feature_Dict))"
   ]
  },
  {
   "cell_type": "code",
   "execution_count": 9,
   "metadata": {},
   "outputs": [
    {
     "name": "stdout",
     "output_type": "stream",
     "text": [
      "(445, 140, 22)\n",
      "(372, 140, 18)\n",
      "(854, 140, 22)\n",
      "(445, 4)\n",
      "(372, 4)\n",
      "(854, 4)\n"
     ]
    }
   ],
   "source": [
    "print(X_First.shape)\n",
    "print(X_Second.shape)\n",
    "print(X_Third.shape)\n",
    "print(Y_First.shape)\n",
    "print(Y_Second.shape)\n",
    "print(Y_Third.shape)"
   ]
  },
  {
   "cell_type": "code",
   "execution_count": 10,
   "metadata": {},
   "outputs": [],
   "source": [
    "dim_X = len(feature_Dict)\n",
    "time_step = 140\n",
    "nbr_of_classes = 4\n",
    "X = np.concatenate((X_First, X_Third), axis=0)[:,:,:dim_X]\n",
    "Y= np.concatenate((Y_First, Y_Third), axis=0)\n",
    "X_Test = X_Second[:,:,:dim_X]\n",
    "Y_Test = Y_Second"
   ]
  },
  {
   "cell_type": "code",
   "execution_count": 9,
   "metadata": {},
   "outputs": [
    {
     "name": "stdout",
     "output_type": "stream",
     "text": [
      "(1299, 140, 17)\n",
      "(1299, 4)\n",
      "(372, 140, 17)\n",
      "(372, 4)\n"
     ]
    }
   ],
   "source": [
    "print(X.shape)\n",
    "print(Y.shape)\n",
    "print(X_Test.shape)\n",
    "print(Y_Test.shape)"
   ]
  },
  {
   "cell_type": "code",
   "execution_count": 10,
   "metadata": {},
   "outputs": [],
   "source": [
    "def get_strike(strike,strike_l,pad):\n",
    "    \n",
    "    for j in range(strike_l-3):\n",
    "        if strike[j,1] == strike[j+1,1] == strike[j+2,1] == pad:\n",
    "            plot_strike = strike[0:j-1,1]\n",
    "            time_strike = strike[0:j-1,0]\n",
    "            break\n",
    "        elif strike[strike_l-2,0] > 0:\n",
    "            plot_strike = strike[:,1]\n",
    "            time_strike = strike[:,0]\n",
    "            break\n",
    "    \n",
    "    return plot_strike,time_strike"
   ]
  },
  {
   "cell_type": "code",
   "execution_count": 11,
   "metadata": {},
   "outputs": [],
   "source": [
    "def change_time_axis_for_plot(X,delta_t):\n",
    "    \n",
    "    nbr_of_samples = X.shape[0]\n",
    "    t = 0\n",
    "    for i in range(nbr_of_samples):\n",
    "        for j in range(140):\n",
    "            X[i,j,0] = t*delta_t\n",
    "            t = t + 1\n",
    "    \n",
    "    return X"
   ]
  },
  {
   "cell_type": "code",
   "execution_count": 12,
   "metadata": {},
   "outputs": [],
   "source": [
    "def plot_skiedata(true_Y,X,figure):\n",
    "\n",
    "    nbr_of_classes = 4\n",
    "    colorDict = {0:'r',1:'fuchsia',2:'deeppink',3:'orange'}\n",
    "    nameDict = {0:'Gear 2',1:'Gear 3',2:'Gear 4',3:'Double','Gear 2':0,'Gear 3':1,'Gear 4':2,'Double':3}\n",
    "    nbr_of_test = X.shape[0]\n",
    "    strike_l = X.shape[1]\n",
    "    pad = 0\n",
    "\n",
    "    for c in range(nbr_of_classes):\n",
    "        true_c = np.where(true_Y == c)[0]\n",
    "        strike_true = []\n",
    "        strike_pred = []\n",
    "        time_true = []\n",
    "        time_pred = []\n",
    "        for i in range(true_c.shape[0]):\n",
    "            strike = X[true_c[i],:,:]\n",
    "            t_strike,t_time = get_strike(strike,strike_l,pad)\n",
    "            strike_true.extend(t_strike)\n",
    "            time_true.extend(t_time)\n",
    "\n",
    "        plt.figure(figure,figsize=(15, 4))\n",
    "        plt.title('True gear')\n",
    "        plt.scatter(time_true,strike_true,label = 'True class: ' + nameDict[c],color =  colorDict[c], alpha = 1)\n",
    "        plt.legend()\n",
    "        #plt.axis([280, 320, 0, 400])\n",
    "    figure = figure + 1\n",
    "    return figure"
   ]
  },
  {
   "cell_type": "code",
   "execution_count": 13,
   "metadata": {},
   "outputs": [],
   "source": [
    "delta_t = 0.02\n",
    "X = change_time_axis_for_plot(X,delta_t)\n",
    "X_Test = change_time_axis_for_plot(X_Test,delta_t)"
   ]
  },
  {
   "cell_type": "code",
   "execution_count": 14,
   "metadata": {},
   "outputs": [
    {
     "data": {
      "image/png": "[encoded data removed]",
      "text/plain": [
       "<Figure size 1080x288 with 1 Axes>"
      ]
     },
     "metadata": {
      "needs_background": "light"
     },
     "output_type": "display_data"
    }
   ],
   "source": [
    "true_Y = np.argmax(Y,axis = 1)\n",
    "figure = plot_skiedata(true_Y,X,0)"
   ]
  },
  {
   "cell_type": "code",
   "execution_count": 11,
   "metadata": {},
   "outputs": [],
   "source": [
    "def LSTM_Two_Dense_26():\n",
    "    \n",
    "    sequence_input = Input(shape=(time_step,dim_X-1))\n",
    "    print(sequence_input.shape)\n",
    "    x = LSTM(26,return_sequences=True)(sequence_input)\n",
    "    print(x.shape)\n",
    "    x = Dense(X.shape[1], activation='relu')(x)\n",
    "    print(x.shape)\n",
    "    x = Flatten()(x)\n",
    "    print(x.shape)\n",
    "    preds = Dense(nbr_of_classes, activation='softmax')(x)\n",
    "    model = Model(sequence_input, preds)\n",
    "    model.compile(Adam(lr=0.0001),loss='categorical_crossentropy', metrics=['accuracy'])\n",
    "    \n",
    "    return model\n",
    "\n",
    "def LSTM_Two_Dense_64():\n",
    "    \n",
    "    sequence_input = Input(shape=(time_step,dim_X-1))\n",
    "    x = LSTM(64,return_sequences=True)(sequence_input)\n",
    "    x = Dense(X.shape[1], activation='relu')(x)\n",
    "    x = Flatten()(x)\n",
    "    preds = Dense(nbr_of_classes, activation='softmax')(x)\n",
    "    model = Model(sequence_input, preds)\n",
    "    model.compile(Adam(lr=0.0001),loss='categorical_crossentropy', metrics=['accuracy'])\n",
    "    \n",
    "    return model\n",
    "\n",
    "def LSTM_Two_Dense_126():\n",
    "    \n",
    "    sequence_input = Input(shape=(time_step,dim_X-1))\n",
    "    x = LSTM(126,return_sequences=True)(sequence_input)\n",
    "    x = Dense(X.shape[1], activation='relu')(x)\n",
    "    x = Flatten()(x)\n",
    "    preds = Dense(nbr_of_classes, activation='softmax')(x)\n",
    "    model = Model(sequence_input, preds)\n",
    "    model.compile(Adam(lr=0.0001),loss='categorical_crossentropy', metrics=['accuracy'])\n",
    "    \n",
    "    return model\n",
    "\n",
    "def LSTM_Two_Dense_64_Drop():\n",
    "    \n",
    "    sequence_input = Input(shape=(time_step,dim_X-1))\n",
    "    x = LSTM(64,return_sequences=True, recurrent_dropout = 0.2)(sequence_input)\n",
    "    x = Dense(X.shape[1], activation='relu')(x)\n",
    "    x = Flatten()(x)\n",
    "    preds = Dense(nbr_of_classes, activation='softmax')(x)\n",
    "    model = Model(sequence_input, preds)\n",
    "    model.compile(Adam(lr=0.0001),loss='categorical_crossentropy', metrics=['accuracy'])\n",
    "    \n",
    "    return model\n",
    "\n",
    "def LSTM_Two_Dense_126_Drop():\n",
    "    \n",
    "    sequence_input = Input(shape=(time_step,dim_X-1))\n",
    "    x = LSTM(126,return_sequences=True, recurrent_dropout = 0.2)(sequence_input)\n",
    "    x = Dense(X.shape[1], activation='relu')(x)\n",
    "    x = Flatten()(x)\n",
    "    preds = Dense(nbr_of_classes, activation='softmax')(x)\n",
    "    model = Model(sequence_input, preds)\n",
    "    model.compile(Adam(lr=0.0001),loss='categorical_crossentropy', metrics=['accuracy'])\n",
    "    \n",
    "    return model\n",
    "def LSTM_Two_Dense_126_Drop_05():\n",
    "    \n",
    "    sequence_input = Input(shape=(time_step,dim_X-1))\n",
    "    x = LSTM(126,return_sequences=True, recurrent_dropout = 0.5)(sequence_input)\n",
    "    x = Dense(X.shape[1], activation='relu')(x)\n",
    "    x = Flatten()(x)\n",
    "    preds = Dense(nbr_of_classes, activation='softmax')(x)\n",
    "    model = Model(sequence_input, preds)\n",
    "    model.compile(Adam(lr=0.0001),loss='categorical_crossentropy', metrics=['accuracy'])\n",
    "    \n",
    "    return model\n"
   ]
  },
  {
   "cell_type": "code",
   "execution_count": 44,
   "metadata": {},
   "outputs": [
    {
     "name": "stdout",
     "output_type": "stream",
     "text": [
      "Train on 1169 samples, validate on 130 samples\n",
      "Epoch 1/6\n",
      "1169/1169 [==============================] - 270s 231ms/step - loss: 0.3929 - acc: 0.8529 - val_loss: 0.1203 - val_acc: 0.9846\n",
      "Epoch 2/6\n",
      "1169/1169 [==============================] - 265s 227ms/step - loss: 0.1131 - acc: 0.9641 - val_loss: 0.1945 - val_acc: 0.9615\n",
      "Epoch 3/6\n",
      "1169/1169 [==============================] - 268s 229ms/step - loss: 0.0577 - acc: 0.9837 - val_loss: 0.1263 - val_acc: 0.9769\n",
      "Epoch 4/6\n",
      "1169/1169 [==============================] - 269s 230ms/step - loss: 0.0328 - acc: 0.9949 - val_loss: 0.1166 - val_acc: 0.9846\n",
      "Epoch 5/6\n",
      "1169/1169 [==============================] - 267s 229ms/step - loss: 0.0273 - acc: 0.9932 - val_loss: 0.1079 - val_acc: 0.9923\n",
      "Epoch 6/6\n",
      "1169/1169 [==============================] - 263s 225ms/step - loss: 0.0158 - acc: 0.9957 - val_loss: 0.1250 - val_acc: 0.9923\n"
     ]
    }
   ],
   "source": [
    "model = LSTM_Two_Dense_126_Drop_05()\n",
    "history  = model.fit(X[:,:,1:], Y, epochs=6, batch_size=1,shuffle = True,validation_split = 0.1)"
   ]
  },
  {
   "cell_type": "code",
   "execution_count": 46,
   "metadata": {},
   "outputs": [],
   "source": [
    "from keras.models import load_model\n",
    "model.save('LSTM_1_3_New_Preprocess_05.h5')"
   ]
  },
  {
   "cell_type": "code",
   "execution_count": 47,
   "metadata": {},
   "outputs": [
    {
     "name": "stdout",
     "output_type": "stream",
     "text": [
      "(372, 4)\n",
      "Accuracy: 0.78\n"
     ]
    }
   ],
   "source": [
    "from keras.models import load_model\n",
    "model = load_model('LSTM_1_3_New_Preprocess_05.h5')\n",
    "predY = model.predict(X_Test[:,:,1:dim_X])\n",
    "print(predY.shape)\n",
    "pred_Y = np.argmax(predY,axis = 1)\n",
    "true_Y = np.argmax(Y_Test,axis = 1)\n",
    "acc = accuracy_score(true_Y,pred_Y)\n",
    "print(\"Accuracy: %.2f\" % acc)"
   ]
  },
  {
   "cell_type": "code",
   "execution_count": 12,
   "metadata": {},
   "outputs": [
    {
     "name": "stdout",
     "output_type": "stream",
     "text": [
      "_________________________________________________________________\n",
      "Layer (type)                 Output Shape              Param #   \n",
      "=================================================================\n",
      "input_1 (InputLayer)         (None, 140, 16)           0         \n",
      "_________________________________________________________________\n",
      "lstm_1 (LSTM)                (None, 140, 126)          72072     \n",
      "_________________________________________________________________\n",
      "dense_1 (Dense)              (None, 140, 140)          17780     \n",
      "_________________________________________________________________\n",
      "flatten_1 (Flatten)          (None, 19600)             0         \n",
      "_________________________________________________________________\n",
      "dense_2 (Dense)              (None, 4)                 78404     \n",
      "=================================================================\n",
      "Total params: 168,256\n",
      "Trainable params: 168,256\n",
      "Non-trainable params: 0\n",
      "_________________________________________________________________\n"
     ]
    }
   ],
   "source": [
    "model = LSTM_Two_Dense_126_Drop_05()\n",
    "model.summary()"
   ]
  },
  {
   "cell_type": "code",
   "execution_count": null,
   "metadata": {},
   "outputs": [],
   "source": []
  }
 ],
 "metadata": {
  "kernelspec": {
   "display_name": "Python 3",
   "language": "python",
   "name": "python3"
  },
  "language_info": {
   "codemirror_mode": {
    "name": "ipython",
    "version": 3
   },
   "file_extension": ".py",
   "mimetype": "text/x-python",
   "name": "python",
   "nbconvert_exporter": "python",
   "pygments_lexer": "ipython3",
   "version": "3.6.6"
  }
 },
 "nbformat": 4,
 "nbformat_minor": 2
}
