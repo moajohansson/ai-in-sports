{
 "cells": [
  {
   "cell_type": "markdown",
   "metadata": {},
   "source": [
    "In this notebook diffrent parameters are tested, inorder to find a optimal choice of parameters for an LSTM network with respect to validation preformence. The traing data and the validation data contains samples form skier 1, 2, 3. "
   ]
  },
  {
   "cell_type": "code",
   "execution_count": 1,
   "metadata": {},
   "outputs": [
    {
     "name": "stderr",
     "output_type": "stream",
     "text": [
      "Using TensorFlow backend.\n",
      "/Users/mariekorneliusson/anaconda3/envs/dml/lib/python3.6/importlib/_bootstrap.py:219: RuntimeWarning: compiletime version 3.5 of module 'tensorflow.python.framework.fast_tensor_util' does not match runtime version 3.6\n",
      "  return f(*args, **kwds)\n"
     ]
    }
   ],
   "source": [
    "import numpy as np\n",
    "import matplotlib.pyplot as plt\n",
    "import pandas as pd\n",
    "import seaborn as sns\n",
    "import os\n",
    "import math\n",
    "import keras\n",
    "from random import shuffle\n",
    "from keras.models import Sequential, Model\n",
    "from keras.layers import Dense,Bidirectional\n",
    "from keras.layers import LSTM, Flatten, Input\n",
    "from keras.layers import BatchNormalization\n",
    "from keras.layers import TimeDistributed, Conv1D, Conv2D, MaxPooling1D, GlobalMaxPooling1D,Dropout\n",
    "from keras.callbacks import TensorBoard, EarlyStopping, ModelCheckpoint\n",
    "from keras.preprocessing import sequence\n",
    "from sklearn.model_selection import train_test_split\n",
    "from sklearn.metrics import accuracy_score, confusion_matrix\n",
    "from keras.optimizers import Adam"
   ]
  },
  {
   "cell_type": "code",
   "execution_count": 2,
   "metadata": {},
   "outputs": [],
   "source": [
    "path = os.path.normpath('/Users/mariekorneliusson/documents/AiSports/Strike_Data_As_Np')"
   ]
  },
  {
   "cell_type": "code",
   "execution_count": 3,
   "metadata": {},
   "outputs": [],
   "source": [
    "X_First = np.load(path + '/' + 'X_First_Skier.npy')\n",
    "Y_First = np.load(path + '/' + 'Y_First_Skier.npy')\n",
    "feature_list_First = []\n",
    "with open(path + \"/keys_First_Skier.txt\", \"r\") as f:\n",
    "      for line in f:\n",
    "        feature_list_First.append(line.strip('\\n'))"
   ]
  },
  {
   "cell_type": "code",
   "execution_count": 4,
   "metadata": {},
   "outputs": [],
   "source": [
    "X_Second = np.load(path + '/' + 'X_Second_Skier.npy')\n",
    "Y_Second = np.load(path + '/' + 'Y_Second_Skier.npy')\n",
    "feature_list_Second = []\n",
    "with open(path + \"/keys_Second_Skier.txt\", \"r\") as f:\n",
    "      for line in f:\n",
    "        feature_list_Second.append(line.strip('\\n'))"
   ]
  },
  {
   "cell_type": "code",
   "execution_count": 5,
   "metadata": {},
   "outputs": [],
   "source": [
    "X_Third = np.load(path + '/' + 'X_Third_Skier.npy')\n",
    "Y_Third = np.load(path + '/' + 'Y_Third_Skier.npy')\n",
    "feature_list_Third = []\n",
    "with open(path + \"/keys_Third_Skier.txt\", \"r\") as f:\n",
    "      for line in f:\n",
    "        feature_list_Third.append(line.strip('\\n'))"
   ]
  },
  {
   "cell_type": "code",
   "execution_count": 8,
   "metadata": {},
   "outputs": [
    {
     "name": "stdout",
     "output_type": "stream",
     "text": [
      "17\n"
     ]
    }
   ],
   "source": [
    "feature_Dict = {i:feature_list_Second[i] for i in range(len(feature_list_Second)-1)}\n",
    "print(len(feature_Dict))\n",
    "time_step = 140\n",
    "nbr_of_classes = 4"
   ]
  },
  {
   "cell_type": "code",
   "execution_count": 9,
   "metadata": {},
   "outputs": [
    {
     "name": "stdout",
     "output_type": "stream",
     "text": [
      "(445, 140, 22)\n",
      "(372, 140, 18)\n",
      "(854, 140, 22)\n",
      "(445, 4)\n",
      "(372, 4)\n",
      "(854, 4)\n"
     ]
    }
   ],
   "source": [
    "print(X_First.shape)\n",
    "print(X_Second.shape)\n",
    "print(X_Third.shape)\n",
    "print(Y_First.shape)\n",
    "print(Y_Second.shape)\n",
    "print(Y_Third.shape)"
   ]
  },
  {
   "cell_type": "code",
   "execution_count": 10,
   "metadata": {},
   "outputs": [],
   "source": [
    "dim_X = len(feature_Dict)\n",
    "X_List = [X_First,X_Second,X_Third]\n",
    "Y_List = [Y_First,Y_Second,Y_Third]\n",
    "\n",
    "folds = 5\n",
    "X_fold_list = [[],[],[],[],[]]\n",
    "Y_fold_list = [[],[],[],[],[]]\n",
    "\n",
    "for i in range(len(X_List)):\n",
    "    x_batch = X_List[i]\n",
    "    y_batch = Y_List[i]\n",
    "    for c in range(4):\n",
    "        ind_c = np.where(y_batch[:,c] == 1)[0]\n",
    "        if ind_c.shape[0] > 0:\n",
    "            s = int(ind_c.shape[0]/folds)\n",
    "            for i in range(folds-1):\n",
    "                ind = ind_c[s*i:s*(i+1)]\n",
    "                X_fold_list[i].append(x_batch[ind,:,:dim_X])\n",
    "                Y_fold_list[i].append(y_batch[ind,:])\n",
    "            ind = ind_c[s*(i+1):]\n",
    "            X_fold_list[folds-1].append(x_batch[ind,:,:dim_X])\n",
    "            Y_fold_list[folds-1].append(y_batch[ind,:])"
   ]
  },
  {
   "cell_type": "code",
   "execution_count": 12,
   "metadata": {},
   "outputs": [
    {
     "name": "stdout",
     "output_type": "stream",
     "text": [
      "(329, 140, 17)\n",
      "(329, 4)\n",
      "(329, 140, 17)\n",
      "(329, 4)\n",
      "(329, 140, 17)\n",
      "(329, 4)\n",
      "(329, 140, 17)\n",
      "(329, 4)\n",
      "(355, 140, 17)\n",
      "(355, 4)\n"
     ]
    }
   ],
   "source": [
    "X_fold_list_new = []\n",
    "Y_fold_list_new = []\n",
    "for i in range(folds):\n",
    "    X_fold_list_new.append(np.concatenate(X_fold_list[i], axis=0))\n",
    "    Y_fold_list_new.append(np.concatenate(Y_fold_list[i], axis=0))\n",
    "    print(X_fold_list_new[i].shape)\n",
    "    print(Y_fold_list_new[i].shape) "
   ]
  },
  {
   "cell_type": "code",
   "execution_count": 14,
   "metadata": {},
   "outputs": [],
   "source": [
    "def get_strike(strike,strike_l,pad):\n",
    "    \n",
    "    for j in range(strike_l-3):\n",
    "        if strike[j,1] == strike[j+1,1] == strike[j+2,1] == pad:\n",
    "            plot_strike = strike[0:j-1,1]\n",
    "            time_strike = strike[0:j-1,0]\n",
    "            break\n",
    "        elif strike[strike_l-2,0] > 0:\n",
    "            plot_strike = strike[:,1]\n",
    "            time_strike = strike[:,0]\n",
    "            break\n",
    "    \n",
    "    return plot_strike,time_strike"
   ]
  },
  {
   "cell_type": "code",
   "execution_count": 15,
   "metadata": {},
   "outputs": [],
   "source": [
    "def change_time_axis_for_plot(X,delta_t):\n",
    "    \n",
    "    nbr_of_samples = X.shape[0]\n",
    "    t = 0\n",
    "    for i in range(nbr_of_samples):\n",
    "        for j in range(140):\n",
    "            X[i,j,0] = t*delta_t\n",
    "            t = t + 1\n",
    "    \n",
    "    return X"
   ]
  },
  {
   "cell_type": "code",
   "execution_count": 16,
   "metadata": {},
   "outputs": [],
   "source": [
    "def plot_skiedata(true_Y,X,figure):\n",
    "\n",
    "    nbr_of_classes = 4\n",
    "    colorDict = {0:'r',1:'fuchsia',2:'deeppink',3:'orange'}\n",
    "    nameDict = {0:'Gear 2',1:'Gear 3',2:'Gear 4',3:'Double','Gear 2':0,'Gear 3':1,'Gear 4':2,'Double':3}\n",
    "    nbr_of_test = X.shape[0]\n",
    "    strike_l = X.shape[1]\n",
    "    pad = 0\n",
    "\n",
    "    for c in range(nbr_of_classes):\n",
    "        true_c = np.where(true_Y == c)[0]\n",
    "        strike_true = []\n",
    "        strike_pred = []\n",
    "        time_true = []\n",
    "        time_pred = []\n",
    "        for i in range(true_c.shape[0]):\n",
    "            strike = X[true_c[i],:,:]\n",
    "            t_strike,t_time = get_strike(strike,strike_l,pad)\n",
    "            strike_true.extend(t_strike)\n",
    "            time_true.extend(t_time)\n",
    "\n",
    "        plt.figure(figure,figsize=(15, 4))\n",
    "        plt.title('True gear')\n",
    "        plt.scatter(time_true,strike_true,label = 'True class: ' + nameDict[c],color =  colorDict[c], alpha = 1)\n",
    "        plt.legend()\n",
    "        #plt.axis([280, 320, 0, 400])\n",
    "    figure = figure + 1\n",
    "    return figure"
   ]
  },
  {
   "cell_type": "code",
   "execution_count": 17,
   "metadata": {},
   "outputs": [],
   "source": [
    "delta_t = 0.02\n",
    "X_Plot = change_time_axis_for_plot(X_fold_list_new[0],delta_t)"
   ]
  },
  {
   "cell_type": "code",
   "execution_count": 18,
   "metadata": {},
   "outputs": [
    {
     "data": {
      "image/png": "[encoded data removed]",
      "text/plain": [
       "<Figure size 1080x288 with 1 Axes>"
      ]
     },
     "metadata": {
      "needs_background": "light"
     },
     "output_type": "display_data"
    }
   ],
   "source": [
    "true_Y = np.argmax(Y_fold_list_new[0],axis = 1)\n",
    "figure = plot_skiedata(true_Y,X_Plot,0)"
   ]
  },
  {
   "cell_type": "code",
   "execution_count": 20,
   "metadata": {},
   "outputs": [],
   "source": [
    "def BLSTM_Two_Dense_26():\n",
    "    \n",
    "    sequence_input = Input(shape=(time_step,dim_X-1))\n",
    "    x = Bidirectional(LSTM(26,return_sequences=True))(sequence_input)\n",
    "    x = Dense(X.shape[1], activation='relu')(x)\n",
    "    x = Flatten()(x)\n",
    "    preds = Dense(nbr_of_classes, activation='softmax')(x)\n",
    "    model = Model(sequence_input, preds)\n",
    "    model.compile(Adam(lr=0.0001),loss='categorical_crossentropy', metrics=['accuracy'])\n",
    "    \n",
    "    return model\n",
    "\n",
    "def BLSTM_Two_Dense_64():\n",
    "    \n",
    "    sequence_input = Input(shape=(time_step,dim_X-1))\n",
    "    x = Bidirectional(LSTM(64,return_sequences=True))(sequence_input)\n",
    "    x = Dense(140, activation='relu')(x)\n",
    "    x = Flatten()(x)\n",
    "    preds = Dense(nbr_of_classes, activation='softmax')(x)\n",
    "    model = Model(sequence_input, preds)\n",
    "    model.compile(Adam(lr=0.0001),loss='categorical_crossentropy', metrics=['accuracy'])\n",
    "    \n",
    "    return model\n",
    "\n",
    "def BLSTM_Two_Dense_126():\n",
    "    \n",
    "    sequence_input = Input(shape=(time_step,dim_X-1))\n",
    "    x = Bidirectional(LSTM(26,return_sequences=True))(sequence_input)\n",
    "    x = Dense(X.shape[1], activation='relu')(x)\n",
    "    x = Flatten()(x)\n",
    "    preds = Dense(nbr_of_classes, activation='softmax')(x)\n",
    "    model = Model(sequence_input, preds)\n",
    "    model.compile(Adam(lr=0.0001),loss='categorical_crossentropy', metrics=['accuracy'])\n",
    "    \n",
    "    return model\n",
    "\n"
   ]
  },
  {
   "cell_type": "code",
   "execution_count": 21,
   "metadata": {},
   "outputs": [
    {
     "name": "stdout",
     "output_type": "stream",
     "text": [
      "Train on 1342 samples, validate on 329 samples\n",
      "Epoch 1/10\n",
      "1342/1342 [==============================] - 297s 221ms/step - loss: 0.3483 - acc: 0.8800 - val_loss: 0.2709 - val_acc: 0.9088\n",
      "Epoch 2/10\n",
      "1342/1342 [==============================] - 283s 211ms/step - loss: 0.1090 - acc: 0.9702 - val_loss: 0.1728 - val_acc: 0.9392\n",
      "Epoch 3/10\n",
      "1342/1342 [==============================] - 279s 208ms/step - loss: 0.0367 - acc: 0.9911 - val_loss: 0.1606 - val_acc: 0.9422\n",
      "Epoch 4/10\n",
      "1342/1342 [==============================] - 282s 210ms/step - loss: 0.0146 - acc: 0.9978 - val_loss: 0.1611 - val_acc: 0.9453\n",
      "Epoch 5/10\n",
      "1342/1342 [==============================] - 279s 208ms/step - loss: 0.0126 - acc: 0.9970 - val_loss: 0.2653 - val_acc: 0.9392\n",
      "Epoch 6/10\n",
      "1342/1342 [==============================] - 276s 205ms/step - loss: 0.0088 - acc: 0.9985 - val_loss: 0.2221 - val_acc: 0.9362\n",
      "Epoch 7/10\n",
      "1342/1342 [==============================] - 274s 204ms/step - loss: 0.0026 - acc: 0.9993 - val_loss: 0.1915 - val_acc: 0.9453\n",
      "Epoch 8/10\n",
      "1342/1342 [==============================] - 281s 210ms/step - loss: 0.0012 - acc: 1.0000 - val_loss: 0.1793 - val_acc: 0.9574\n",
      "Epoch 9/10\n",
      "1342/1342 [==============================] - 280s 208ms/step - loss: 0.0088 - acc: 0.9963 - val_loss: 0.2501 - val_acc: 0.9179\n",
      "Epoch 10/10\n",
      "1342/1342 [==============================] - 278s 207ms/step - loss: 0.0081 - acc: 0.9963 - val_loss: 0.1715 - val_acc: 0.9574\n",
      "(329, 4)\n",
      "Accuracy: 0.94\n"
     ]
    }
   ],
   "source": [
    "from keras.models import load_model\n",
    "\n",
    "cros_val_acc = 0\n",
    "\n",
    "x_list = [[1,2,3,4],[0,2,3,4],[0,1,3,4],[0,1,2,4],[0,1,2,3]]\n",
    "X_train_list = [X_fold_list_new[i] for i in x_list[0]]\n",
    "Y_train_list = [Y_fold_list_new[i] for i in x_list[0]]\n",
    "\n",
    "X_train = np.concatenate(X_train_list, axis=0)\n",
    "Y_train = np.concatenate(Y_train_list, axis=0)\n",
    "X_val = X_fold_list_new[0]\n",
    "Y_val = Y_fold_list_new[0]\n",
    "model = BLSTM_Two_Dense_64()\n",
    "eS = EarlyStopping(monitor='acc', min_delta=0.00001, patience=3)\n",
    "mCp = ModelCheckpoint('BLSTM_1_2_3_New_Preprocessing_fold_' +str(0) +'.h5', monitor='val_loss', save_best_only=True)\n",
    "history = model.fit(X_train[:,:,1:], Y_train, epochs=10, batch_size=1, validation_data=(X_val[:,:,1:],Y_val),shuffle = True,callbacks = [eS,mCp])\n",
    "\n",
    "\n",
    "model = load_model('BLSTM_1_2_3_New_Preprocessing_fold_' +str(0) +'.h5')\n",
    "predY = model.predict(X_val[:,:,1:])\n",
    "print(predY.shape)\n",
    "pred_Y = np.argmax(predY,axis = 1)\n",
    "true_Y = np.argmax(Y_val,axis = 1)\n",
    "acc = accuracy_score(true_Y,pred_Y)\n",
    "print(\"Accuracy: %.2f\" % acc)\n",
    "\n",
    "cros_val_acc = cros_val_acc + acc"
   ]
  },
  {
   "cell_type": "code",
   "execution_count": 22,
   "metadata": {},
   "outputs": [
    {
     "name": "stdout",
     "output_type": "stream",
     "text": [
      "Train on 1342 samples, validate on 329 samples\n",
      "Epoch 1/10\n",
      "1342/1342 [==============================] - 287s 214ms/step - loss: 0.3533 - acc: 0.8756 - val_loss: 0.3545 - val_acc: 0.8511\n",
      "Epoch 2/10\n",
      "1342/1342 [==============================] - 283s 211ms/step - loss: 0.1127 - acc: 0.9657 - val_loss: 0.2495 - val_acc: 0.9149\n",
      "Epoch 3/10\n",
      "1342/1342 [==============================] - 283s 211ms/step - loss: 0.0563 - acc: 0.9836 - val_loss: 0.2103 - val_acc: 0.9058\n",
      "Epoch 4/10\n",
      "1342/1342 [==============================] - 282s 210ms/step - loss: 0.0317 - acc: 0.9918 - val_loss: 0.1483 - val_acc: 0.9514\n",
      "Epoch 5/10\n",
      "1342/1342 [==============================] - 283s 211ms/step - loss: 0.0179 - acc: 0.9963 - val_loss: 0.3471 - val_acc: 0.8480\n",
      "Epoch 6/10\n",
      "1342/1342 [==============================] - 282s 210ms/step - loss: 0.0080 - acc: 0.9993 - val_loss: 0.1735 - val_acc: 0.9271\n",
      "Epoch 7/10\n",
      "1342/1342 [==============================] - 274s 205ms/step - loss: 0.0042 - acc: 0.9985 - val_loss: 0.4991 - val_acc: 0.8450\n",
      "Epoch 8/10\n",
      "1342/1342 [==============================] - 276s 205ms/step - loss: 0.0084 - acc: 0.9985 - val_loss: 0.4201 - val_acc: 0.8602\n",
      "Epoch 9/10\n",
      "1342/1342 [==============================] - 278s 207ms/step - loss: 0.0012 - acc: 1.0000 - val_loss: 0.2711 - val_acc: 0.9027\n",
      "Epoch 10/10\n",
      "1342/1342 [==============================] - 279s 208ms/step - loss: 7.7560e-04 - acc: 1.0000 - val_loss: 0.2194 - val_acc: 0.9119\n",
      "(329, 4)\n",
      "Accuracy: 0.95\n"
     ]
    }
   ],
   "source": [
    "from keras.models import load_model\n",
    "\n",
    "x_list = [[1,2,3,4],[0,2,3,4],[0,1,3,4],[0,1,2,4],[0,1,2,3]]\n",
    "X_train_list = [X_fold_list_new[i] for i in x_list[1]]\n",
    "Y_train_list = [Y_fold_list_new[i] for i in x_list[1]]\n",
    "\n",
    "X_train = np.concatenate(X_train_list, axis=0)\n",
    "Y_train = np.concatenate(Y_train_list, axis=0)\n",
    "X_val = X_fold_list_new[1]\n",
    "Y_val = Y_fold_list_new[1]\n",
    "model = BLSTM_Two_Dense_64()\n",
    "eS = EarlyStopping(monitor='acc', min_delta=0.00001, patience=3)\n",
    "mCp = ModelCheckpoint('BLSTM_1_2_3_New_Preprocessing_fold_' +str(1) +'.h5', monitor='val_loss', save_best_only=True)\n",
    "history = model.fit(X_train[:,:,1:], Y_train, epochs=10, batch_size=1, validation_data=(X_val[:,:,1:],Y_val),shuffle = True,callbacks = [eS,mCp])\n",
    "\n",
    "\n",
    "model = load_model('BLSTM_1_2_3_New_Preprocessing_fold_' +str(1) +'.h5')\n",
    "predY = model.predict(X_val[:,:,1:])\n",
    "print(predY.shape)\n",
    "pred_Y = np.argmax(predY,axis = 1)\n",
    "true_Y = np.argmax(Y_val,axis = 1)\n",
    "acc = accuracy_score(true_Y,pred_Y)\n",
    "print(\"Accuracy: %.2f\" % acc)\n",
    "\n",
    "cros_val_acc = cros_val_acc + acc"
   ]
  },
  {
   "cell_type": "code",
   "execution_count": 23,
   "metadata": {},
   "outputs": [
    {
     "name": "stdout",
     "output_type": "stream",
     "text": [
      "Train on 1342 samples, validate on 329 samples\n",
      "Epoch 1/10\n",
      "1342/1342 [==============================] - 289s 215ms/step - loss: 0.3483 - acc: 0.8741 - val_loss: 0.2010 - val_acc: 0.9331\n",
      "Epoch 2/10\n",
      "1342/1342 [==============================] - 290s 216ms/step - loss: 0.0901 - acc: 0.9739 - val_loss: 0.2032 - val_acc: 0.9240\n",
      "Epoch 3/10\n",
      "1342/1342 [==============================] - 291s 217ms/step - loss: 0.0348 - acc: 0.9933 - val_loss: 0.3474 - val_acc: 0.8784\n",
      "Epoch 4/10\n",
      "1342/1342 [==============================] - 312s 232ms/step - loss: 0.0217 - acc: 0.9955 - val_loss: 0.2197 - val_acc: 0.9179\n",
      "Epoch 5/10\n",
      "1342/1342 [==============================] - 310s 231ms/step - loss: 0.0073 - acc: 1.0000 - val_loss: 0.2331 - val_acc: 0.9240\n",
      "Epoch 6/10\n",
      "1342/1342 [==============================] - 303s 226ms/step - loss: 0.0092 - acc: 0.9978 - val_loss: 0.1937 - val_acc: 0.9331\n",
      "Epoch 7/10\n",
      "1342/1342 [==============================] - 303s 226ms/step - loss: 0.0028 - acc: 0.9993 - val_loss: 0.2150 - val_acc: 0.9362\n",
      "Epoch 8/10\n",
      "1342/1342 [==============================] - 300s 224ms/step - loss: 0.0010 - acc: 1.0000 - val_loss: 0.2191 - val_acc: 0.9453\n",
      "(329, 4)\n",
      "Accuracy: 0.93\n"
     ]
    }
   ],
   "source": [
    "from keras.models import load_model\n",
    "fold = 2\n",
    "x_list = [[1,2,3,4],[0,2,3,4],[0,1,3,4],[0,1,2,4],[0,1,2,3]]\n",
    "X_train_list = [X_fold_list_new[i] for i in x_list[fold]]\n",
    "Y_train_list = [Y_fold_list_new[i] for i in x_list[fold]]\n",
    "\n",
    "X_train = np.concatenate(X_train_list, axis=0)\n",
    "Y_train = np.concatenate(Y_train_list, axis=0)\n",
    "X_val = X_fold_list_new[fold]\n",
    "Y_val = Y_fold_list_new[fold]\n",
    "model = BLSTM_Two_Dense_64()\n",
    "eS = EarlyStopping(monitor='acc', min_delta=0.00001, patience=3)\n",
    "mCp = ModelCheckpoint('BLSTM_1_2_3_New_Preprocessing_fold_' +str(fold) +'.h5', monitor='val_loss', save_best_only=True)\n",
    "history = model.fit(X_train[:,:,1:], Y_train, epochs=10, batch_size=1, validation_data=(X_val[:,:,1:],Y_val),shuffle = True,callbacks = [eS,mCp])\n",
    "\n",
    "\n",
    "model = load_model('BLSTM_1_2_3_New_Preprocessing_fold_' +str(fold) +'.h5')\n",
    "predY = model.predict(X_val[:,:,1:])\n",
    "print(predY.shape)\n",
    "pred_Y = np.argmax(predY,axis = 1)\n",
    "true_Y = np.argmax(Y_val,axis = 1)\n",
    "acc = accuracy_score(true_Y,pred_Y)\n",
    "print(\"Accuracy: %.2f\" % acc)\n",
    "\n",
    "cros_val_acc = cros_val_acc + acc"
   ]
  },
  {
   "cell_type": "code",
   "execution_count": 24,
   "metadata": {},
   "outputs": [
    {
     "name": "stdout",
     "output_type": "stream",
     "text": [
      "Train on 1342 samples, validate on 329 samples\n",
      "Epoch 1/10\n",
      "1342/1342 [==============================] - 305s 227ms/step - loss: 0.3616 - acc: 0.8703 - val_loss: 0.1568 - val_acc: 0.9514\n",
      "Epoch 2/10\n",
      "1342/1342 [==============================] - 295s 220ms/step - loss: 0.0969 - acc: 0.9709 - val_loss: 0.1306 - val_acc: 0.9544\n",
      "Epoch 3/10\n",
      "1342/1342 [==============================] - 313s 233ms/step - loss: 0.0521 - acc: 0.9844 - val_loss: 0.0829 - val_acc: 0.9666\n",
      "Epoch 4/10\n",
      "1342/1342 [==============================] - 312s 232ms/step - loss: 0.0196 - acc: 0.9970 - val_loss: 0.0649 - val_acc: 0.9787\n",
      "Epoch 5/10\n",
      "1342/1342 [==============================] - 305s 227ms/step - loss: 0.0217 - acc: 0.9925 - val_loss: 0.1207 - val_acc: 0.9544\n",
      "Epoch 6/10\n",
      "1342/1342 [==============================] - 294s 219ms/step - loss: 0.0073 - acc: 0.9978 - val_loss: 0.0481 - val_acc: 0.9757\n",
      "Epoch 7/10\n",
      "1342/1342 [==============================] - 289s 216ms/step - loss: 0.0027 - acc: 0.9993 - val_loss: 0.0539 - val_acc: 0.9726\n",
      "Epoch 8/10\n",
      "1342/1342 [==============================] - 283s 211ms/step - loss: 0.0020 - acc: 1.0000 - val_loss: 0.0669 - val_acc: 0.9726\n",
      "Epoch 9/10\n",
      "1342/1342 [==============================] - 286s 213ms/step - loss: 0.0011 - acc: 1.0000 - val_loss: 0.0635 - val_acc: 0.9696\n",
      "Epoch 10/10\n",
      "1342/1342 [==============================] - 290s 216ms/step - loss: 6.7389e-04 - acc: 1.0000 - val_loss: 0.1049 - val_acc: 0.9635\n",
      "(329, 4)\n",
      "Accuracy: 0.98\n"
     ]
    }
   ],
   "source": [
    "from keras.models import load_model\n",
    "fold = 3\n",
    "x_list = [[1,2,3,4],[0,2,3,4],[0,1,3,4],[0,1,2,4],[0,1,2,3]]\n",
    "X_train_list = [X_fold_list_new[i] for i in x_list[fold]]\n",
    "Y_train_list = [Y_fold_list_new[i] for i in x_list[fold]]\n",
    "\n",
    "X_train = np.concatenate(X_train_list, axis=0)\n",
    "Y_train = np.concatenate(Y_train_list, axis=0)\n",
    "X_val = X_fold_list_new[fold]\n",
    "Y_val = Y_fold_list_new[fold]\n",
    "model = BLSTM_Two_Dense_64()\n",
    "eS = EarlyStopping(monitor='acc', min_delta=0.00001, patience=3)\n",
    "mCp = ModelCheckpoint('BLSTM_1_2_3_New_Preprocessing_fold_' +str(fold) +'.h5', monitor='val_loss', save_best_only=True)\n",
    "history = model.fit(X_train[:,:,1:], Y_train, epochs=10, batch_size=1, validation_data=(X_val[:,:,1:],Y_val),shuffle = True,callbacks = [eS,mCp])\n",
    "\n",
    "\n",
    "model = load_model('BLSTM_1_2_3_New_Preprocessing_fold_' +str(fold) +'.h5')\n",
    "predY = model.predict(X_val[:,:,1:])\n",
    "print(predY.shape)\n",
    "pred_Y = np.argmax(predY,axis = 1)\n",
    "true_Y = np.argmax(Y_val,axis = 1)\n",
    "acc = accuracy_score(true_Y,pred_Y)\n",
    "print(\"Accuracy: %.2f\" % acc)\n",
    "\n",
    "cros_val_acc = cros_val_acc + acc"
   ]
  },
  {
   "cell_type": "code",
   "execution_count": 25,
   "metadata": {},
   "outputs": [
    {
     "name": "stdout",
     "output_type": "stream",
     "text": [
      "Train on 1316 samples, validate on 355 samples\n",
      "Epoch 1/10\n",
      "1316/1316 [==============================] - 318s 241ms/step - loss: 0.3709 - acc: 0.8556 - val_loss: 0.2715 - val_acc: 0.9183\n",
      "Epoch 2/10\n",
      "1316/1316 [==============================] - 307s 234ms/step - loss: 0.0787 - acc: 0.9772 - val_loss: 0.2746 - val_acc: 0.9155\n",
      "Epoch 3/10\n",
      "1316/1316 [==============================] - 301s 229ms/step - loss: 0.0329 - acc: 0.9924 - val_loss: 0.2250 - val_acc: 0.9296\n",
      "Epoch 4/10\n",
      "1316/1316 [==============================] - 287s 218ms/step - loss: 0.0138 - acc: 0.9977 - val_loss: 0.2407 - val_acc: 0.9380\n",
      "Epoch 5/10\n",
      "1316/1316 [==============================] - 283s 215ms/step - loss: 0.0090 - acc: 0.9985 - val_loss: 0.3117 - val_acc: 0.9239\n",
      "Epoch 6/10\n",
      "1316/1316 [==============================] - 292s 222ms/step - loss: 0.0046 - acc: 0.9992 - val_loss: 0.3055 - val_acc: 0.9465\n",
      "Epoch 7/10\n",
      "1316/1316 [==============================] - 295s 224ms/step - loss: 0.0047 - acc: 0.9992 - val_loss: 0.2978 - val_acc: 0.9380\n",
      "Epoch 8/10\n",
      "1316/1316 [==============================] - 288s 219ms/step - loss: 0.0125 - acc: 0.9962 - val_loss: 0.2970 - val_acc: 0.9437\n",
      "Epoch 9/10\n",
      "1316/1316 [==============================] - 280s 213ms/step - loss: 0.0011 - acc: 1.0000 - val_loss: 0.3139 - val_acc: 0.9380\n",
      "Epoch 10/10\n",
      "1316/1316 [==============================] - 273s 208ms/step - loss: 3.8591e-04 - acc: 1.0000 - val_loss: 0.3107 - val_acc: 0.9408\n",
      "(355, 4)\n",
      "Accuracy: 0.93\n"
     ]
    }
   ],
   "source": [
    "from keras.models import load_model\n",
    "fold = 4\n",
    "x_list = [[1,2,3,4],[0,2,3,4],[0,1,3,4],[0,1,2,4],[0,1,2,3]]\n",
    "X_train_list = [X_fold_list_new[i] for i in x_list[fold]]\n",
    "Y_train_list = [Y_fold_list_new[i] for i in x_list[fold]]\n",
    "\n",
    "X_train = np.concatenate(X_train_list, axis=0)\n",
    "Y_train = np.concatenate(Y_train_list, axis=0)\n",
    "X_val = X_fold_list_new[fold]\n",
    "Y_val = Y_fold_list_new[fold]\n",
    "model = BLSTM_Two_Dense_64()\n",
    "eS = EarlyStopping(monitor='acc', min_delta=0.00001, patience=3)\n",
    "mCp = ModelCheckpoint('BLSTM_1_2_3_New_Preprocessing_fold_' +str(fold) +'.h5', monitor='val_loss', save_best_only=True)\n",
    "history = model.fit(X_train[:,:,1:], Y_train, epochs=10, batch_size=1, validation_data=(X_val[:,:,1:],Y_val),shuffle = True,callbacks = [eS,mCp])\n",
    "\n",
    "\n",
    "model = load_model('BLSTM_1_2_3_New_Preprocessing_fold_' +str(fold) +'.h5')\n",
    "predY = model.predict(X_val[:,:,1:])\n",
    "print(predY.shape)\n",
    "pred_Y = np.argmax(predY,axis = 1)\n",
    "true_Y = np.argmax(Y_val,axis = 1)\n",
    "acc = accuracy_score(true_Y,pred_Y)\n",
    "print(\"Accuracy: %.2f\" % acc)\n",
    "\n",
    "cros_val_acc = cros_val_acc + acc"
   ]
  },
  {
   "cell_type": "code",
   "execution_count": 26,
   "metadata": {},
   "outputs": [
    {
     "name": "stdout",
     "output_type": "stream",
     "text": [
      "Accuracy: 0.95\n"
     ]
    }
   ],
   "source": [
    "c = cros_val_acc/5\n",
    "print(\"Accuracy: %.2f\" % c)"
   ]
  },
  {
   "cell_type": "code",
   "execution_count": 27,
   "metadata": {},
   "outputs": [
    {
     "name": "stdout",
     "output_type": "stream",
     "text": [
      "_________________________________________________________________\n",
      "Layer (type)                 Output Shape              Param #   \n",
      "=================================================================\n",
      "input_5 (InputLayer)         (None, 140, 16)           0         \n",
      "_________________________________________________________________\n",
      "bidirectional_5 (Bidirection (None, 140, 128)          41472     \n",
      "_________________________________________________________________\n",
      "dense_9 (Dense)              (None, 140, 140)          18060     \n",
      "_________________________________________________________________\n",
      "flatten_5 (Flatten)          (None, 19600)             0         \n",
      "_________________________________________________________________\n",
      "dense_10 (Dense)             (None, 4)                 78404     \n",
      "=================================================================\n",
      "Total params: 137,936\n",
      "Trainable params: 137,936\n",
      "Non-trainable params: 0\n",
      "_________________________________________________________________\n"
     ]
    }
   ],
   "source": [
    "model.summary()"
   ]
  },
  {
   "cell_type": "code",
   "execution_count": null,
   "metadata": {},
   "outputs": [],
   "source": []
  }
 ],
 "metadata": {
  "kernelspec": {
   "display_name": "Python 3",
   "language": "python",
   "name": "python3"
  },
  "language_info": {
   "codemirror_mode": {
    "name": "ipython",
    "version": 3
   },
   "file_extension": ".py",
   "mimetype": "text/x-python",
   "name": "python",
   "nbconvert_exporter": "python",
   "pygments_lexer": "ipython3",
   "version": "3.6.6"
  }
 },
 "nbformat": 4,
 "nbformat_minor": 2
}
