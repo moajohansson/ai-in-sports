{
 "cells": [
  {
   "cell_type": "code",
   "execution_count": 1,
   "metadata": {},
   "outputs": [],
   "source": [
    "# import statements\n",
    "\n",
    "import pandas as pd\n",
    "import numpy as np\n",
    "import math\n",
    "from matplotlib import pyplot\n",
    "import matplotlib.pyplot as plt\n",
    "from sklearn.preprocessing import MinMaxScaler\n",
    "from sklearn.preprocessing import StandardScaler\n",
    "from pandas import Series\n",
    "\n",
    "from sklearn.model_selection import train_test_split\n",
    "from random import shuffle\n",
    "\n",
    "from sklearn.linear_model import LogisticRegression\n",
    "import seaborn as sns\n",
    "from sklearn import metrics"
   ]
  },
  {
   "cell_type": "code",
   "execution_count": 2,
   "metadata": {
    "collapsed": true
   },
   "outputs": [],
   "source": [
    "# Read the Gear2 data\n",
    "Gear2Files = ['./Gear2/segment2.csv', './Gear2/segment3.csv','./Gear2/segment4.csv',\n",
    "              './Gear2/segment5.csv','./Gear2/segment6.csv']\n",
    "\n",
    "X_Gear2=[0] * len(Gear2Files)\n",
    "Y_Gear2=[0] * len(Gear2Files)\n",
    "for index,file in enumerate(Gear2Files):\n",
    "    X_Gear2[index] = pd.read_csv(file);\n",
    "    Y_Gear2[index] = pd.DataFrame(data= np.full((X_Gear2[index].shape[0],1), 2));\n",
    "    X_Gear2[index] = X_Gear2[index].assign(Gear=Y_Gear2[index].values);\n",
    "\n",
    "# Read the Gear3 data\n",
    "Gear3Files = ['./Gear3/segment1.csv', './Gear3/segment2.csv','./Gear3/segment3.csv',\n",
    "              './Gear3/segment4.csv','./Gear3/segment5.csv', './Gear3/segment6.csv']\n",
    "\n",
    "X_Gear3=[0] * len(Gear3Files)\n",
    "Y_Gear3=[0] * len(Gear3Files)\n",
    "for index,file in enumerate(Gear3Files):\n",
    "    X_Gear3[index] = pd.read_csv(file);\n",
    "    Y_Gear3[index] = pd.DataFrame(data= np.full((X_Gear3[index].shape[0],1), 3));\n",
    "    X_Gear3[index] = X_Gear3[index].assign(Gear=Y_Gear3[index].values);\n",
    "\n",
    "# Read the Gear4 data\n",
    "Gear4Files = ['./Gear4/segment2.csv','./Gear4/segment3.csv','./Gear4/segment4.csv',\n",
    "              './Gear4/segment5.csv', './Gear4/segment6a.csv','./Gear4/segment6b.csv']\n",
    "\n",
    "X_Gear4=[0] * len(Gear4Files)\n",
    "Y_Gear4=[0] * len(Gear4Files)\n",
    "for index,file in enumerate(Gear4Files):\n",
    "    X_Gear4[index] = pd.read_csv(file);\n",
    "    Y_Gear4[index] = pd.DataFrame(data= np.full((X_Gear4[index].shape[0],1), 4));\n",
    "    X_Gear4[index] = X_Gear4[index].assign(Gear=Y_Gear4[index].values);\n",
    "\n",
    "# Read the Gear 5 data\n",
    "Gear5Files = ['./Double/segment1.csv','./Double/segment2.csv','./Double/segment3.csv',\n",
    "              './Double/segment4.csv', './Double/segment5.csv','./Double/segment7.csv']\n",
    "\n",
    "X_Gear5=[0] * len(Gear5Files)\n",
    "Y_Gear5=[0] * len(Gear5Files)\n",
    "for index,file in enumerate(Gear5Files):\n",
    "    X_Gear5[index] = pd.read_csv(file);\n",
    "    Y_Gear5[index] = pd.DataFrame(data= np.full((X_Gear5[index].shape[0],1), 5));\n",
    "    X_Gear5[index] = X_Gear5[index].assign(Gear=Y_Gear5[index].values);"
   ]
  },
  {
   "cell_type": "code",
   "execution_count": 3,
   "metadata": {
    "collapsed": true
   },
   "outputs": [],
   "source": [
    "\n",
    "# # Implement moving average for a window size of 3, and split the segments such that each has 750 time-steps\n",
    "\n",
    "limit = 750\n",
    "features = list(X_Gear2[0].columns);\n",
    "scaledFeatures = [item for item in features if item not in ['t','Gear']]\n",
    "\n",
    "XGear=[]\n",
    "for index in range(len(X_Gear2)):\n",
    "    dataG2 = X_Gear2[index];\n",
    "    x = dataG2[scaledFeatures];\n",
    "    rolling = x.rolling(window=3);\n",
    "    rolling_mean = rolling.mean();\n",
    "    X_Gear2[index][scaledFeatures] = rolling_mean;\n",
    "    dataG2 = X_Gear2[index].iloc[3:, :];\n",
    "    gearRange = math.ceil(len(dataG2)/limit);\n",
    "    XGear += [dataG2[t*limit:t*limit + limit] for t in range(gearRange)];  \n",
    "    \n",
    "for index in range(len(X_Gear3)):\n",
    "    dataG3 = X_Gear3[index];\n",
    "    x = dataG3[scaledFeatures];\n",
    "    rolling = x.rolling(window=3);\n",
    "    rolling_mean = rolling.mean();\n",
    "    X_Gear3[index][scaledFeatures] = rolling_mean;\n",
    "    dataG3 = X_Gear3[index].iloc[3:, :];\n",
    "    gearRange = math.ceil(len(dataG3)/limit);\n",
    "    XGear += [dataG3[t*limit:t*limit + limit] for t in range(gearRange)];  \n",
    "    \n",
    "for index in range(len(X_Gear4)):\n",
    "    dataG4 = X_Gear4[index];\n",
    "    x = dataG4[scaledFeatures];\n",
    "    rolling = x.rolling(window=3);\n",
    "    rolling_mean = rolling.mean();\n",
    "    X_Gear4[index][scaledFeatures] = rolling_mean;\n",
    "    dataG4 = X_Gear4[index].iloc[3:, :];\n",
    "    gearRange = math.ceil(len(dataG4)/limit);\n",
    "    XGear += [dataG4[t*limit:t*limit + limit] for t in range(gearRange)];  \n",
    "    \n",
    "    \n",
    "for index in range(len(X_Gear5)):\n",
    "    dataG5 = X_Gear5[index];\n",
    "    x = dataG5[scaledFeatures];\n",
    "    rolling = x.rolling(window=3);\n",
    "    rolling_mean = rolling.mean();\n",
    "    X_Gear5[index][scaledFeatures] = rolling_mean;\n",
    "    dataG5 = X_Gear5[index].iloc[3:, :];\n",
    "    gearRange = math.ceil(len(dataG5)/limit);\n",
    "    XGear += [dataG5[t*limit:t*limit + limit] for t in range(gearRange)];  \n",
    "    \n",
    "    \n",
    "# limit = 750\n",
    "\n",
    "# XGear=[]\n",
    "# for index, dataG2 in enumerate(X_Gear2):\n",
    "#     gearRange = math.ceil(len(dataG2)/limit)\n",
    "#     XGear += [dataG2[t*limit:t*limit + limit] for t in range(gearRange)]\n",
    "\n",
    "# for index, dataG3 in enumerate(X_Gear3):\n",
    "#     gearRange = math.ceil(len(dataG3)/limit)\n",
    "#     XGear += [dataG3[t*limit:t*limit + limit] for t in range(gearRange)]\n",
    "\n",
    "# for index, dataG4 in enumerate(X_Gear4):\n",
    "#     gearRange = math.ceil(len(dataG4)/limit)\n",
    "#     XGear += [dataG4[t*limit:t*limit + limit] for t in range(gearRange)]\n",
    "    \n",
    "# for index, dataG5 in enumerate(X_Gear5):\n",
    "#     gearRange = math.ceil(len(dataG5)/limit)\n",
    "#     XGear += [dataG5[t*limit:t*limit + limit] for t in range(gearRange)]\n",
    "    "
   ]
  },
  {
   "cell_type": "code",
   "execution_count": 4,
   "metadata": {
    "collapsed": true
   },
   "outputs": [],
   "source": [
    "X = XGear[:] # Copy words\n",
    "shuffle(X) "
   ]
  },
  {
   "cell_type": "code",
   "execution_count": 5,
   "metadata": {
    "collapsed": true
   },
   "outputs": [],
   "source": [
    "X = pd.concat(X);"
   ]
  },
  {
   "cell_type": "code",
   "execution_count": 6,
   "metadata": {},
   "outputs": [],
   "source": [
    "data = pd.DataFrame(X);\n",
    "\n",
    "data.reset_index(inplace = True, drop = True)\n",
    "for i in range(len(data)):\n",
    "    data.loc[i,'t'] = i*0.02"
   ]
  },
  {
   "cell_type": "code",
   "execution_count": 7,
   "metadata": {},
   "outputs": [
    {
     "name": "stdout",
     "output_type": "stream",
     "text": [
      "Scaling feature :  fL\n",
      "Scaling feature :  thL\n",
      "Scaling feature :  w1L\n",
      "Scaling feature :  w2L\n",
      "Scaling feature :  w3L\n",
      "Scaling feature :  a1L\n",
      "Scaling feature :  a2L\n",
      "Scaling feature :  a3L\n",
      "Scaling feature :  fR\n",
      "Scaling feature :  thR\n",
      "Scaling feature :  w1R\n",
      "Scaling feature :  w2R\n",
      "Scaling feature :  w3R\n",
      "Scaling feature :  a1R\n",
      "Scaling feature :  a2R\n",
      "Scaling feature :  a3R\n",
      "Scaling feature :  x\n",
      "Scaling feature :  y\n",
      "Scaling feature :  v\n",
      "Scaling feature :  vdir\n"
     ]
    }
   ],
   "source": [
    "# Normalisation\n",
    "# Feature normalization\n",
    "# Normalize Time Series Data\n",
    "# Source : https://machinelearningmastery.com/normalize-standardize-time-series-data-python/\n",
    "\n",
    "# Normalization is a rescaling of the data from the original range so that all values are within the range of 0 and 1.\n",
    "# useful when your time series data has input values with differing scales.\n",
    "features = list(data.columns);\n",
    "scaledFeatures = [item for item in features if item not in ['t','Gear']]\n",
    "\n",
    "for i in range(len(scaledFeatures)):\n",
    "    feature = scaledFeatures[i];\n",
    "    print('Scaling feature : ', scaledFeatures[i])\n",
    "    values = X[feature].values.reshape(-1,1);\n",
    "    values = values.astype('float32');\n",
    "    scaler = MinMaxScaler(feature_range = (0,1));\n",
    "    scaled_f = scaler.fit_transform(values);\n",
    "    X[feature] = scaled_f;"
   ]
  },
  {
   "cell_type": "code",
   "execution_count": 8,
   "metadata": {},
   "outputs": [],
   "source": [
    "# Create one-hot Y vectors\n",
    "features.remove('Gear')\n",
    "features.remove('x')\n",
    "features.remove('y')\n",
    "features.remove('v')\n",
    "X = data[features]\n",
    "Y = data['Gear']\n",
    "# Create one-hot Y vectors\n",
    "# Y_onehot = pd.get_dummies(Y).values;"
   ]
  },
  {
   "cell_type": "code",
   "execution_count": 9,
   "metadata": {
    "collapsed": true
   },
   "outputs": [],
   "source": [
    "X = data[features]\n",
    "Y = data['Gear']\n",
    "\n",
    "X = np.array(X)\n",
    "Y = np.array(Y)"
   ]
  },
  {
   "cell_type": "code",
   "execution_count": 10,
   "metadata": {},
   "outputs": [],
   "source": [
    "trainX, testX, trainY, testY = train_test_split(X, Y, test_size=0.2);"
   ]
  },
  {
   "cell_type": "code",
   "execution_count": 11,
   "metadata": {},
   "outputs": [],
   "source": [
    "# Model\n",
    "\n",
    "model = LogisticRegression()\n",
    "history = model.fit(trainX, trainY)"
   ]
  },
  {
   "cell_type": "code",
   "execution_count": 12,
   "metadata": {},
   "outputs": [],
   "source": [
    "# Evaluate\n",
    "predictions = model.predict(testX[:,:])"
   ]
  },
  {
   "cell_type": "code",
   "execution_count": 13,
   "metadata": {},
   "outputs": [
    {
     "name": "stdout",
     "output_type": "stream",
     "text": [
      "Accuracy of logistic regression classifier on test set: 0.57\n"
     ]
    }
   ],
   "source": [
    "score = model.score(testX, testY)\n",
    "print('Accuracy of logistic regression classifier on test set: {:.2f}'.format(score))"
   ]
  },
  {
   "cell_type": "code",
   "execution_count": 14,
   "metadata": {},
   "outputs": [
    {
     "name": "stdout",
     "output_type": "stream",
     "text": [
      "[2 2 2 ... 2 3 2]\n"
     ]
    }
   ],
   "source": [
    "print(np.array(predictions))"
   ]
  },
  {
   "cell_type": "code",
   "execution_count": 15,
   "metadata": {},
   "outputs": [],
   "source": [
    "timeTest = np.array(testX[:,0])\n",
    "forceLeftTest = np.array(testX[:,1])\n",
    "forceRightTest = np.array(testX[:,9])\n",
    "predTest = np.array(predictions)\n",
    "realTest = np.array(testY)"
   ]
  },
  {
   "cell_type": "code",
   "execution_count": 16,
   "metadata": {},
   "outputs": [
    {
     "name": "stdout",
     "output_type": "stream",
     "text": [
      "[[ 757  212  110   18]\n",
      " [ 288 1030   72  101]\n",
      " [ 140  156  666  226]\n",
      " [  31  673  179  518]]\n"
     ]
    }
   ],
   "source": [
    "cm = metrics.confusion_matrix(testY, predictions)\n",
    "print(cm)"
   ]
  },
  {
   "cell_type": "code",
   "execution_count": 17,
   "metadata": {},
   "outputs": [
    {
     "data": {
      "image/png": "[encoded data removed]",
      "text/plain": [
       "<matplotlib.figure.Figure at 0x1a14094668>"
      ]
     },
     "metadata": {},
     "output_type": "display_data"
    }
   ],
   "source": [
    "plt.figure(figsize=(9,9))\n",
    "sns.heatmap(cm, annot=True, fmt=\".3f\", linewidths=.5, square = True);\n",
    "plt.ylabel('Actual label');\n",
    "plt.xlabel('Predicted label');\n",
    "all_sample_title = 'Accuracy Score: {0}'.format(score)\n",
    "plt.title(all_sample_title, size = 15);\n",
    "plt.show()"
   ]
  }
 ],
 "metadata": {
  "kernelspec": {
   "display_name": "Python 3",
   "language": "python",
   "name": "python3"
  },
  "language_info": {
   "codemirror_mode": {
    "name": "ipython",
    "version": 3
   },
   "file_extension": ".py",
   "mimetype": "text/x-python",
   "name": "python",
   "nbconvert_exporter": "python",
   "pygments_lexer": "ipython3",
   "version": "3.6.4"
  }
 },
 "nbformat": 4,
 "nbformat_minor": 2
}
